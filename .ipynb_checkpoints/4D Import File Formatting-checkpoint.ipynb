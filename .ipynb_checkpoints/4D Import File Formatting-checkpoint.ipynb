{
 "cells": [
  {
   "cell_type": "code",
   "execution_count": 7,
   "metadata": {},
   "outputs": [],
   "source": [
    "import csv\n",
    "import pandas as pd\n",
    "import re\n",
    "import numpy as np"
   ]
  },
  {
   "cell_type": "code",
   "execution_count": 8,
   "metadata": {
    "scrolled": true
   },
   "outputs": [],
   "source": [
    "df = pd.read_excel('terms.xlsx', headers=0, delimiter=\",\")"
   ]
  },
  {
   "cell_type": "code",
   "execution_count": 9,
   "metadata": {},
   "outputs": [
    {
     "data": {
      "text/html": [
       "<div>\n",
       "<style scoped>\n",
       "    .dataframe tbody tr th:only-of-type {\n",
       "        vertical-align: middle;\n",
       "    }\n",
       "\n",
       "    .dataframe tbody tr th {\n",
       "        vertical-align: top;\n",
       "    }\n",
       "\n",
       "    .dataframe thead th {\n",
       "        text-align: right;\n",
       "    }\n",
       "</style>\n",
       "<table border=\"1\" class=\"dataframe\">\n",
       "  <thead>\n",
       "    <tr style=\"text-align: right;\">\n",
       "      <th></th>\n",
       "      <th>Term</th>\n",
       "      <th>Abbreviation</th>\n",
       "      <th>Description</th>\n",
       "      <th>Comment</th>\n",
       "      <th>SemanticURI</th>\n",
       "      <th>URI</th>\n",
       "      <th>Root Term</th>\n",
       "      <th>Master Term</th>\n",
       "      <th>ID Terminology</th>\n",
       "      <th>ID Category</th>\n",
       "      <th>IDTermStatus</th>\n",
       "    </tr>\n",
       "  </thead>\n",
       "  <tbody>\n",
       "    <tr>\n",
       "      <th>0</th>\n",
       "      <td>Absolute Humidity</td>\n",
       "      <td>NaN</td>\n",
       "      <td>Absolute humidity is the mass of water in a pa...</td>\n",
       "      <td>NaN</td>\n",
       "      <td>http://qudt.org/1.1/vocab/quantity#AbsoluteHum...</td>\n",
       "      <td>NaN</td>\n",
       "      <td>0</td>\n",
       "      <td>NaN</td>\n",
       "      <td>13</td>\n",
       "      <td>3</td>\n",
       "      <td>3</td>\n",
       "    </tr>\n",
       "    <tr>\n",
       "      <th>1</th>\n",
       "      <td>Absorbed Dose</td>\n",
       "      <td>NaN</td>\n",
       "      <td>Absorbed dose (also known as Total Ionizing Do...</td>\n",
       "      <td>NaN</td>\n",
       "      <td>http://qudt.org/1.1/vocab/quantity#AbsorbedDose</td>\n",
       "      <td>http://dbpedia.org/resource/Absorbed_dose</td>\n",
       "      <td>0</td>\n",
       "      <td>NaN</td>\n",
       "      <td>13</td>\n",
       "      <td>3</td>\n",
       "      <td>3</td>\n",
       "    </tr>\n",
       "    <tr>\n",
       "      <th>2</th>\n",
       "      <td>Absorbed Dose Rate</td>\n",
       "      <td>NaN</td>\n",
       "      <td>NaN</td>\n",
       "      <td>NaN</td>\n",
       "      <td>http://qudt.org/1.1/vocab/quantity#AbsorbedDos...</td>\n",
       "      <td>NaN</td>\n",
       "      <td>0</td>\n",
       "      <td>NaN</td>\n",
       "      <td>13</td>\n",
       "      <td>3</td>\n",
       "      <td>3</td>\n",
       "    </tr>\n",
       "    <tr>\n",
       "      <th>3</th>\n",
       "      <td>Acceleration</td>\n",
       "      <td>NaN</td>\n",
       "      <td>Acceleration is the (instantaneous) rate of ch...</td>\n",
       "      <td>NaN</td>\n",
       "      <td>http://qudt.org/1.1/vocab/quantity#Acceleration</td>\n",
       "      <td>http://dbpedia.org/resource/Acceleration</td>\n",
       "      <td>0</td>\n",
       "      <td>NaN</td>\n",
       "      <td>13</td>\n",
       "      <td>3</td>\n",
       "      <td>3</td>\n",
       "    </tr>\n",
       "    <tr>\n",
       "      <th>4</th>\n",
       "      <td>Action</td>\n",
       "      <td>S</td>\n",
       "      <td>NaN</td>\n",
       "      <td>NaN</td>\n",
       "      <td>http://qudt.org/1.1/vocab/quantity#Action</td>\n",
       "      <td>NaN</td>\n",
       "      <td>0</td>\n",
       "      <td>NaN</td>\n",
       "      <td>13</td>\n",
       "      <td>3</td>\n",
       "      <td>3</td>\n",
       "    </tr>\n",
       "  </tbody>\n",
       "</table>\n",
       "</div>"
      ],
      "text/plain": [
       "                 Term Abbreviation  \\\n",
       "0   Absolute Humidity          NaN   \n",
       "1       Absorbed Dose          NaN   \n",
       "2  Absorbed Dose Rate          NaN   \n",
       "3        Acceleration          NaN   \n",
       "4              Action            S   \n",
       "\n",
       "                                         Description  Comment  \\\n",
       "0  Absolute humidity is the mass of water in a pa...      NaN   \n",
       "1  Absorbed dose (also known as Total Ionizing Do...      NaN   \n",
       "2                                                NaN      NaN   \n",
       "3  Acceleration is the (instantaneous) rate of ch...      NaN   \n",
       "4                                                NaN      NaN   \n",
       "\n",
       "                                         SemanticURI  \\\n",
       "0  http://qudt.org/1.1/vocab/quantity#AbsoluteHum...   \n",
       "1    http://qudt.org/1.1/vocab/quantity#AbsorbedDose   \n",
       "2  http://qudt.org/1.1/vocab/quantity#AbsorbedDos...   \n",
       "3    http://qudt.org/1.1/vocab/quantity#Acceleration   \n",
       "4          http://qudt.org/1.1/vocab/quantity#Action   \n",
       "\n",
       "                                         URI  Root Term  Master Term  \\\n",
       "0                                        NaN          0          NaN   \n",
       "1  http://dbpedia.org/resource/Absorbed_dose          0          NaN   \n",
       "2                                        NaN          0          NaN   \n",
       "3   http://dbpedia.org/resource/Acceleration          0          NaN   \n",
       "4                                        NaN          0          NaN   \n",
       "\n",
       "   ID Terminology  ID Category  IDTermStatus  \n",
       "0              13            3             3  \n",
       "1              13            3             3  \n",
       "2              13            3             3  \n",
       "3              13            3             3  \n",
       "4              13            3             3  "
      ]
     },
     "execution_count": 9,
     "metadata": {},
     "output_type": "execute_result"
    }
   ],
   "source": [
    "df.head()"
   ]
  },
  {
   "cell_type": "code",
   "execution_count": 10,
   "metadata": {},
   "outputs": [
    {
     "data": {
      "text/plain": [
       "(236, 11)"
      ]
     },
     "execution_count": 10,
     "metadata": {},
     "output_type": "execute_result"
    }
   ],
   "source": [
    "df.shape"
   ]
  },
  {
   "cell_type": "code",
   "execution_count": 11,
   "metadata": {},
   "outputs": [],
   "source": [
    "df.to_csv('terms.csv', sep=';', encoding='utf-8')"
   ]
  },
  {
   "cell_type": "code",
   "execution_count": 13,
   "metadata": {},
   "outputs": [
    {
     "data": {
      "text/html": [
       "<div>\n",
       "<style scoped>\n",
       "    .dataframe tbody tr th:only-of-type {\n",
       "        vertical-align: middle;\n",
       "    }\n",
       "\n",
       "    .dataframe tbody tr th {\n",
       "        vertical-align: top;\n",
       "    }\n",
       "\n",
       "    .dataframe thead th {\n",
       "        text-align: right;\n",
       "    }\n",
       "</style>\n",
       "<table border=\"1\" class=\"dataframe\">\n",
       "  <thead>\n",
       "    <tr style=\"text-align: right;\">\n",
       "      <th></th>\n",
       "      <th>Term</th>\n",
       "      <th>Relation Type</th>\n",
       "      <th>Term.1</th>\n",
       "      <th>Relation Type.1</th>\n",
       "      <th>Term.2</th>\n",
       "    </tr>\n",
       "  </thead>\n",
       "  <tbody>\n",
       "    <tr>\n",
       "      <th>0</th>\n",
       "      <td>Angular Acceleration</td>\n",
       "      <td>has broader term</td>\n",
       "      <td>Acceleration</td>\n",
       "      <td>has broader term</td>\n",
       "      <td>QuantityKind</td>\n",
       "    </tr>\n",
       "    <tr>\n",
       "      <th>1</th>\n",
       "      <td>Linear Acceleration</td>\n",
       "      <td>has broader term</td>\n",
       "      <td>Acceleration</td>\n",
       "      <td>has broader term</td>\n",
       "      <td>QuantityKind</td>\n",
       "    </tr>\n",
       "    <tr>\n",
       "      <th>2</th>\n",
       "      <td>Serum or Plasma Level</td>\n",
       "      <td>has broader term</td>\n",
       "      <td>Amount of Substance Per Unit Volume</td>\n",
       "      <td>has broader term</td>\n",
       "      <td>QuantityKind</td>\n",
       "    </tr>\n",
       "    <tr>\n",
       "      <th>3</th>\n",
       "      <td>Plane Angle</td>\n",
       "      <td>has broader term</td>\n",
       "      <td>Angle</td>\n",
       "      <td>has broader term</td>\n",
       "      <td>QuantityKind</td>\n",
       "    </tr>\n",
       "    <tr>\n",
       "      <th>4</th>\n",
       "      <td>Solid Angle</td>\n",
       "      <td>has broader term</td>\n",
       "      <td>Angle</td>\n",
       "      <td>has broader term</td>\n",
       "      <td>QuantityKind</td>\n",
       "    </tr>\n",
       "  </tbody>\n",
       "</table>\n",
       "</div>"
      ],
      "text/plain": [
       "                    Term     Relation Type  \\\n",
       "0   Angular Acceleration  has broader term   \n",
       "1    Linear Acceleration  has broader term   \n",
       "2  Serum or Plasma Level  has broader term   \n",
       "3            Plane Angle  has broader term   \n",
       "4            Solid Angle  has broader term   \n",
       "\n",
       "                                Term.1   Relation Type.1        Term.2  \n",
       "0                         Acceleration  has broader term  QuantityKind  \n",
       "1                         Acceleration  has broader term  QuantityKind  \n",
       "2  Amount of Substance Per Unit Volume  has broader term  QuantityKind  \n",
       "3                                Angle  has broader term  QuantityKind  \n",
       "4                                Angle  has broader term  QuantityKind  "
      ]
     },
     "execution_count": 13,
     "metadata": {},
     "output_type": "execute_result"
    }
   ],
   "source": [
    "dfr = pd.read_excel('terms.xlsx', headers=0, delimiter=\",\", sheet_name='Term-Relations')\n",
    "dfr.head()"
   ]
  },
  {
   "cell_type": "code",
   "execution_count": 14,
   "metadata": {},
   "outputs": [
    {
     "data": {
      "text/plain": [
       "(81, 5)"
      ]
     },
     "execution_count": 14,
     "metadata": {},
     "output_type": "execute_result"
    }
   ],
   "source": [
    "dfr.shape"
   ]
  },
  {
   "cell_type": "code",
   "execution_count": 15,
   "metadata": {},
   "outputs": [],
   "source": [
    "dfr.to_csv('terms_relations.csv', sep=';', encoding='utf-8')"
   ]
  },
  {
   "cell_type": "code",
   "execution_count": null,
   "metadata": {},
   "outputs": [],
   "source": []
  }
 ],
 "metadata": {
  "kernelspec": {
   "display_name": "Python 3",
   "language": "python",
   "name": "python3"
  },
  "language_info": {
   "codemirror_mode": {
    "name": "ipython",
    "version": 3
   },
   "file_extension": ".py",
   "mimetype": "text/x-python",
   "name": "python",
   "nbconvert_exporter": "python",
   "pygments_lexer": "ipython3",
   "version": "3.6.5"
  }
 },
 "nbformat": 4,
 "nbformat_minor": 2
}
