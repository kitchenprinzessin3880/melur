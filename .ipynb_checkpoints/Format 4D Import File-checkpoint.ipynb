{
 "cells": [
  {
   "cell_type": "code",
   "execution_count": 100,
   "metadata": {},
   "outputs": [],
   "source": [
    "import csv\n",
    "import pandas as pd\n",
    "import re\n",
    "import numpy as np\n",
    "import string, math"
   ]
  },
  {
   "cell_type": "code",
   "execution_count": 101,
   "metadata": {
    "scrolled": true
   },
   "outputs": [],
   "source": [
    "df = pd.read_excel('data/ImportedQUDT.xlsx', headers=0, delimiter=\",\")"
   ]
  },
  {
   "cell_type": "code",
   "execution_count": 102,
   "metadata": {},
   "outputs": [
    {
     "data": {
      "text/plain": [
       "Term              234\n",
       "Abbreviation       35\n",
       "Description       102\n",
       "Comment             0\n",
       "SemanticURI       235\n",
       "URI                96\n",
       "Root Term           1\n",
       "Master Term         0\n",
       "ID Terminology      1\n",
       "ID Category         1\n",
       "IDTermStatus        1\n",
       "dtype: int64"
      ]
     },
     "execution_count": 102,
     "metadata": {},
     "output_type": "execute_result"
    }
   ],
   "source": [
    "df.nunique()"
   ]
  },
  {
   "cell_type": "code",
   "execution_count": 103,
   "metadata": {},
   "outputs": [],
   "source": [
    "df['Description'] = df['Description'].astype(str)"
   ]
  },
  {
   "cell_type": "code",
   "execution_count": 104,
   "metadata": {},
   "outputs": [
    {
     "name": "stdout",
     "output_type": "stream",
     "text": [
      "<class 'pandas.core.frame.DataFrame'>\n",
      "RangeIndex: 236 entries, 0 to 235\n",
      "Data columns (total 11 columns):\n",
      "Term              236 non-null object\n",
      "Abbreviation      46 non-null object\n",
      "Description       236 non-null object\n",
      "Comment           0 non-null float64\n",
      "SemanticURI       236 non-null object\n",
      "URI               101 non-null object\n",
      "Root Term         236 non-null int64\n",
      "Master Term       0 non-null float64\n",
      "ID Terminology    236 non-null int64\n",
      "ID Category       236 non-null int64\n",
      "IDTermStatus      236 non-null int64\n",
      "dtypes: float64(2), int64(4), object(5)\n",
      "memory usage: 20.4+ KB\n"
     ]
    }
   ],
   "source": [
    "df.info()"
   ]
  },
  {
   "cell_type": "code",
   "execution_count": 105,
   "metadata": {},
   "outputs": [
    {
     "data": {
      "text/html": [
       "<div>\n",
       "<style scoped>\n",
       "    .dataframe tbody tr th:only-of-type {\n",
       "        vertical-align: middle;\n",
       "    }\n",
       "\n",
       "    .dataframe tbody tr th {\n",
       "        vertical-align: top;\n",
       "    }\n",
       "\n",
       "    .dataframe thead th {\n",
       "        text-align: right;\n",
       "    }\n",
       "</style>\n",
       "<table border=\"1\" class=\"dataframe\">\n",
       "  <thead>\n",
       "    <tr style=\"text-align: right;\">\n",
       "      <th></th>\n",
       "      <th>Term</th>\n",
       "      <th>Abbreviation</th>\n",
       "      <th>Description</th>\n",
       "      <th>Comment</th>\n",
       "      <th>SemanticURI</th>\n",
       "      <th>URI</th>\n",
       "      <th>Root Term</th>\n",
       "      <th>Master Term</th>\n",
       "      <th>ID Terminology</th>\n",
       "      <th>ID Category</th>\n",
       "      <th>IDTermStatus</th>\n",
       "    </tr>\n",
       "  </thead>\n",
       "  <tbody>\n",
       "    <tr>\n",
       "      <th>0</th>\n",
       "      <td>Absolute Humidity</td>\n",
       "      <td>NaN</td>\n",
       "      <td>Absolute humidity is the mass of water in a pa...</td>\n",
       "      <td>NaN</td>\n",
       "      <td>http://qudt.org/1.1/vocab/quantity#AbsoluteHum...</td>\n",
       "      <td>NaN</td>\n",
       "      <td>0</td>\n",
       "      <td>NaN</td>\n",
       "      <td>13</td>\n",
       "      <td>3</td>\n",
       "      <td>3</td>\n",
       "    </tr>\n",
       "    <tr>\n",
       "      <th>1</th>\n",
       "      <td>Absorbed Dose</td>\n",
       "      <td>NaN</td>\n",
       "      <td>Absorbed dose (also known as Total Ionizing Do...</td>\n",
       "      <td>NaN</td>\n",
       "      <td>http://qudt.org/1.1/vocab/quantity#AbsorbedDose</td>\n",
       "      <td>http://dbpedia.org/resource/Absorbed_dose</td>\n",
       "      <td>0</td>\n",
       "      <td>NaN</td>\n",
       "      <td>13</td>\n",
       "      <td>3</td>\n",
       "      <td>3</td>\n",
       "    </tr>\n",
       "    <tr>\n",
       "      <th>2</th>\n",
       "      <td>Absorbed Dose Rate</td>\n",
       "      <td>NaN</td>\n",
       "      <td>nan</td>\n",
       "      <td>NaN</td>\n",
       "      <td>http://qudt.org/1.1/vocab/quantity#AbsorbedDos...</td>\n",
       "      <td>NaN</td>\n",
       "      <td>0</td>\n",
       "      <td>NaN</td>\n",
       "      <td>13</td>\n",
       "      <td>3</td>\n",
       "      <td>3</td>\n",
       "    </tr>\n",
       "    <tr>\n",
       "      <th>3</th>\n",
       "      <td>Acceleration</td>\n",
       "      <td>NaN</td>\n",
       "      <td>Acceleration is the (instantaneous) rate of ch...</td>\n",
       "      <td>NaN</td>\n",
       "      <td>http://qudt.org/1.1/vocab/quantity#Acceleration</td>\n",
       "      <td>http://dbpedia.org/resource/Acceleration</td>\n",
       "      <td>0</td>\n",
       "      <td>NaN</td>\n",
       "      <td>13</td>\n",
       "      <td>3</td>\n",
       "      <td>3</td>\n",
       "    </tr>\n",
       "    <tr>\n",
       "      <th>4</th>\n",
       "      <td>Action</td>\n",
       "      <td>S</td>\n",
       "      <td>nan</td>\n",
       "      <td>NaN</td>\n",
       "      <td>http://qudt.org/1.1/vocab/quantity#Action</td>\n",
       "      <td>NaN</td>\n",
       "      <td>0</td>\n",
       "      <td>NaN</td>\n",
       "      <td>13</td>\n",
       "      <td>3</td>\n",
       "      <td>3</td>\n",
       "    </tr>\n",
       "  </tbody>\n",
       "</table>\n",
       "</div>"
      ],
      "text/plain": [
       "                 Term Abbreviation  \\\n",
       "0   Absolute Humidity          NaN   \n",
       "1       Absorbed Dose          NaN   \n",
       "2  Absorbed Dose Rate          NaN   \n",
       "3        Acceleration          NaN   \n",
       "4              Action            S   \n",
       "\n",
       "                                         Description  Comment  \\\n",
       "0  Absolute humidity is the mass of water in a pa...      NaN   \n",
       "1  Absorbed dose (also known as Total Ionizing Do...      NaN   \n",
       "2                                                nan      NaN   \n",
       "3  Acceleration is the (instantaneous) rate of ch...      NaN   \n",
       "4                                                nan      NaN   \n",
       "\n",
       "                                         SemanticURI  \\\n",
       "0  http://qudt.org/1.1/vocab/quantity#AbsoluteHum...   \n",
       "1    http://qudt.org/1.1/vocab/quantity#AbsorbedDose   \n",
       "2  http://qudt.org/1.1/vocab/quantity#AbsorbedDos...   \n",
       "3    http://qudt.org/1.1/vocab/quantity#Acceleration   \n",
       "4          http://qudt.org/1.1/vocab/quantity#Action   \n",
       "\n",
       "                                         URI  Root Term  Master Term  \\\n",
       "0                                        NaN          0          NaN   \n",
       "1  http://dbpedia.org/resource/Absorbed_dose          0          NaN   \n",
       "2                                        NaN          0          NaN   \n",
       "3   http://dbpedia.org/resource/Acceleration          0          NaN   \n",
       "4                                        NaN          0          NaN   \n",
       "\n",
       "   ID Terminology  ID Category  IDTermStatus  \n",
       "0              13            3             3  \n",
       "1              13            3             3  \n",
       "2              13            3             3  \n",
       "3              13            3             3  \n",
       "4              13            3             3  "
      ]
     },
     "execution_count": 105,
     "metadata": {},
     "output_type": "execute_result"
    }
   ],
   "source": [
    "df.head()"
   ]
  },
  {
   "cell_type": "code",
   "execution_count": 106,
   "metadata": {},
   "outputs": [
    {
     "data": {
      "text/html": [
       "<div>\n",
       "<style scoped>\n",
       "    .dataframe tbody tr th:only-of-type {\n",
       "        vertical-align: middle;\n",
       "    }\n",
       "\n",
       "    .dataframe tbody tr th {\n",
       "        vertical-align: top;\n",
       "    }\n",
       "\n",
       "    .dataframe thead th {\n",
       "        text-align: right;\n",
       "    }\n",
       "</style>\n",
       "<table border=\"1\" class=\"dataframe\">\n",
       "  <thead>\n",
       "    <tr style=\"text-align: right;\">\n",
       "      <th></th>\n",
       "      <th>Term</th>\n",
       "      <th>Abbreviation</th>\n",
       "      <th>Description</th>\n",
       "      <th>Comment</th>\n",
       "      <th>SemanticURI</th>\n",
       "      <th>URI</th>\n",
       "      <th>Root Term</th>\n",
       "      <th>Master Term</th>\n",
       "      <th>ID Terminology</th>\n",
       "      <th>ID Category</th>\n",
       "      <th>IDTermStatus</th>\n",
       "    </tr>\n",
       "  </thead>\n",
       "  <tbody>\n",
       "    <tr>\n",
       "      <th>64</th>\n",
       "      <td>Energy and Work</td>\n",
       "      <td>NaN</td>\n",
       "      <td>nan</td>\n",
       "      <td>NaN</td>\n",
       "      <td>http://qudt.org/1.1/vocab/quantity#EnergyAndWork</td>\n",
       "      <td>http://dbpedia.org/resource/Work_%28physics%29</td>\n",
       "      <td>0</td>\n",
       "      <td>NaN</td>\n",
       "      <td>13</td>\n",
       "      <td>3</td>\n",
       "      <td>3</td>\n",
       "    </tr>\n",
       "    <tr>\n",
       "      <th>108</th>\n",
       "      <td>Kinetic Energy</td>\n",
       "      <td>NaN</td>\n",
       "      <td>The energy which a body possesses as a consequ...</td>\n",
       "      <td>NaN</td>\n",
       "      <td>http://qudt.org/1.1/vocab/quantity#KineticEnergy</td>\n",
       "      <td>http://dbpedia.org/resource/Kinetic_energy</td>\n",
       "      <td>0</td>\n",
       "      <td>NaN</td>\n",
       "      <td>13</td>\n",
       "      <td>3</td>\n",
       "      <td>3</td>\n",
       "    </tr>\n",
       "  </tbody>\n",
       "</table>\n",
       "</div>"
      ],
      "text/plain": [
       "                Term Abbreviation  \\\n",
       "64   Energy and Work          NaN   \n",
       "108   Kinetic Energy          NaN   \n",
       "\n",
       "                                           Description  Comment  \\\n",
       "64                                                 nan      NaN   \n",
       "108  The energy which a body possesses as a consequ...      NaN   \n",
       "\n",
       "                                          SemanticURI  \\\n",
       "64   http://qudt.org/1.1/vocab/quantity#EnergyAndWork   \n",
       "108  http://qudt.org/1.1/vocab/quantity#KineticEnergy   \n",
       "\n",
       "                                                URI  Root Term  Master Term  \\\n",
       "64   http://dbpedia.org/resource/Work_%28physics%29          0          NaN   \n",
       "108      http://dbpedia.org/resource/Kinetic_energy          0          NaN   \n",
       "\n",
       "     ID Terminology  ID Category  IDTermStatus  \n",
       "64               13            3             3  \n",
       "108              13            3             3  "
      ]
     },
     "execution_count": 106,
     "metadata": {},
     "output_type": "execute_result"
    }
   ],
   "source": [
    "df[df.Term.duplicated()]"
   ]
  },
  {
   "cell_type": "code",
   "execution_count": 107,
   "metadata": {
    "scrolled": true
   },
   "outputs": [
    {
     "data": {
      "text/html": [
       "<div>\n",
       "<style scoped>\n",
       "    .dataframe tbody tr th:only-of-type {\n",
       "        vertical-align: middle;\n",
       "    }\n",
       "\n",
       "    .dataframe tbody tr th {\n",
       "        vertical-align: top;\n",
       "    }\n",
       "\n",
       "    .dataframe thead th {\n",
       "        text-align: right;\n",
       "    }\n",
       "</style>\n",
       "<table border=\"1\" class=\"dataframe\">\n",
       "  <thead>\n",
       "    <tr style=\"text-align: right;\">\n",
       "      <th></th>\n",
       "      <th>Term</th>\n",
       "      <th>Abbreviation</th>\n",
       "      <th>Description</th>\n",
       "      <th>Comment</th>\n",
       "      <th>SemanticURI</th>\n",
       "      <th>URI</th>\n",
       "      <th>Root Term</th>\n",
       "      <th>Master Term</th>\n",
       "      <th>ID Terminology</th>\n",
       "      <th>ID Category</th>\n",
       "      <th>IDTermStatus</th>\n",
       "    </tr>\n",
       "  </thead>\n",
       "  <tbody>\n",
       "    <tr>\n",
       "      <th>63</th>\n",
       "      <td>Energy and Work</td>\n",
       "      <td>NaN</td>\n",
       "      <td>nan</td>\n",
       "      <td>NaN</td>\n",
       "      <td>http://qudt.org/1.1/vocab/quantity#EnergyAndWork</td>\n",
       "      <td>http://dbpedia.org/resource/Energy</td>\n",
       "      <td>0</td>\n",
       "      <td>NaN</td>\n",
       "      <td>13</td>\n",
       "      <td>3</td>\n",
       "      <td>3</td>\n",
       "    </tr>\n",
       "    <tr>\n",
       "      <th>64</th>\n",
       "      <td>Energy and Work</td>\n",
       "      <td>NaN</td>\n",
       "      <td>nan</td>\n",
       "      <td>NaN</td>\n",
       "      <td>http://qudt.org/1.1/vocab/quantity#EnergyAndWork</td>\n",
       "      <td>http://dbpedia.org/resource/Work_%28physics%29</td>\n",
       "      <td>0</td>\n",
       "      <td>NaN</td>\n",
       "      <td>13</td>\n",
       "      <td>3</td>\n",
       "      <td>3</td>\n",
       "    </tr>\n",
       "  </tbody>\n",
       "</table>\n",
       "</div>"
      ],
      "text/plain": [
       "               Term Abbreviation Description  Comment  \\\n",
       "63  Energy and Work          NaN         nan      NaN   \n",
       "64  Energy and Work          NaN         nan      NaN   \n",
       "\n",
       "                                         SemanticURI  \\\n",
       "63  http://qudt.org/1.1/vocab/quantity#EnergyAndWork   \n",
       "64  http://qudt.org/1.1/vocab/quantity#EnergyAndWork   \n",
       "\n",
       "                                               URI  Root Term  Master Term  \\\n",
       "63              http://dbpedia.org/resource/Energy          0          NaN   \n",
       "64  http://dbpedia.org/resource/Work_%28physics%29          0          NaN   \n",
       "\n",
       "    ID Terminology  ID Category  IDTermStatus  \n",
       "63              13            3             3  \n",
       "64              13            3             3  "
      ]
     },
     "execution_count": 107,
     "metadata": {},
     "output_type": "execute_result"
    }
   ],
   "source": [
    "df[df.Term=='Energy and Work'] # duplicates because of two skos:exactMatch"
   ]
  },
  {
   "cell_type": "code",
   "execution_count": 108,
   "metadata": {},
   "outputs": [
    {
     "data": {
      "text/html": [
       "<div>\n",
       "<style scoped>\n",
       "    .dataframe tbody tr th:only-of-type {\n",
       "        vertical-align: middle;\n",
       "    }\n",
       "\n",
       "    .dataframe tbody tr th {\n",
       "        vertical-align: top;\n",
       "    }\n",
       "\n",
       "    .dataframe thead th {\n",
       "        text-align: right;\n",
       "    }\n",
       "</style>\n",
       "<table border=\"1\" class=\"dataframe\">\n",
       "  <thead>\n",
       "    <tr style=\"text-align: right;\">\n",
       "      <th></th>\n",
       "      <th>Term</th>\n",
       "      <th>Abbreviation</th>\n",
       "      <th>Description</th>\n",
       "      <th>Comment</th>\n",
       "      <th>SemanticURI</th>\n",
       "      <th>URI</th>\n",
       "      <th>Root Term</th>\n",
       "      <th>Master Term</th>\n",
       "      <th>ID Terminology</th>\n",
       "      <th>ID Category</th>\n",
       "      <th>IDTermStatus</th>\n",
       "    </tr>\n",
       "  </thead>\n",
       "  <tbody>\n",
       "    <tr>\n",
       "      <th>68</th>\n",
       "      <td>Kinetic Energy</td>\n",
       "      <td>NaN</td>\n",
       "      <td>nan</td>\n",
       "      <td>NaN</td>\n",
       "      <td>http://qudt.org/1.1/vocab/quantity#EnergyKinetic</td>\n",
       "      <td>http://dbpedia.org/resource/Kinetic_energy</td>\n",
       "      <td>0</td>\n",
       "      <td>NaN</td>\n",
       "      <td>13</td>\n",
       "      <td>3</td>\n",
       "      <td>3</td>\n",
       "    </tr>\n",
       "    <tr>\n",
       "      <th>108</th>\n",
       "      <td>Kinetic Energy</td>\n",
       "      <td>NaN</td>\n",
       "      <td>The energy which a body possesses as a consequ...</td>\n",
       "      <td>NaN</td>\n",
       "      <td>http://qudt.org/1.1/vocab/quantity#KineticEnergy</td>\n",
       "      <td>http://dbpedia.org/resource/Kinetic_energy</td>\n",
       "      <td>0</td>\n",
       "      <td>NaN</td>\n",
       "      <td>13</td>\n",
       "      <td>3</td>\n",
       "      <td>3</td>\n",
       "    </tr>\n",
       "  </tbody>\n",
       "</table>\n",
       "</div>"
      ],
      "text/plain": [
       "               Term Abbreviation  \\\n",
       "68   Kinetic Energy          NaN   \n",
       "108  Kinetic Energy          NaN   \n",
       "\n",
       "                                           Description  Comment  \\\n",
       "68                                                 nan      NaN   \n",
       "108  The energy which a body possesses as a consequ...      NaN   \n",
       "\n",
       "                                          SemanticURI  \\\n",
       "68   http://qudt.org/1.1/vocab/quantity#EnergyKinetic   \n",
       "108  http://qudt.org/1.1/vocab/quantity#KineticEnergy   \n",
       "\n",
       "                                            URI  Root Term  Master Term  \\\n",
       "68   http://dbpedia.org/resource/Kinetic_energy          0          NaN   \n",
       "108  http://dbpedia.org/resource/Kinetic_energy          0          NaN   \n",
       "\n",
       "     ID Terminology  ID Category  IDTermStatus  \n",
       "68               13            3             3  \n",
       "108              13            3             3  "
      ]
     },
     "execution_count": 108,
     "metadata": {},
     "output_type": "execute_result"
    }
   ],
   "source": [
    "df[df.Term=='Kinetic Energy']#duplicates because of same term defined twice in qudt."
   ]
  },
  {
   "cell_type": "code",
   "execution_count": null,
   "metadata": {},
   "outputs": [],
   "source": [
    "#df.drop(df.index[[64,68]])"
   ]
  },
  {
   "cell_type": "markdown",
   "metadata": {},
   "source": [
    "# Format Terms"
   ]
  },
  {
   "cell_type": "code",
   "execution_count": 24,
   "metadata": {},
   "outputs": [],
   "source": [
    "#df['Description'] = df['Description'].str.strip()\n",
    "#df[\"Description\"] = df[\"Description\"].map(str.strip)"
   ]
  },
  {
   "cell_type": "code",
   "execution_count": 25,
   "metadata": {},
   "outputs": [],
   "source": [
    "regex = re.compile(r'[\\n\\r\\t]+')\n",
    "mpa = dict.fromkeys(range(32))\n",
    "\n",
    "def formatControlChar(s):\n",
    "    txt = regex.sub('|', s)\n",
    "    txt = txt.translate(mpa)\n",
    "    return ' '.join(txt.split())\n",
    "\n",
    "df['DescriptionFormatted'] = df['Description'].map(formatControlChar)\n",
    "df['DescriptionFormatted'] = df['DescriptionFormatted'].replace('nan','')"
   ]
  },
  {
   "cell_type": "code",
   "execution_count": 26,
   "metadata": {},
   "outputs": [
    {
     "data": {
      "text/html": [
       "<div>\n",
       "<style scoped>\n",
       "    .dataframe tbody tr th:only-of-type {\n",
       "        vertical-align: middle;\n",
       "    }\n",
       "\n",
       "    .dataframe tbody tr th {\n",
       "        vertical-align: top;\n",
       "    }\n",
       "\n",
       "    .dataframe thead th {\n",
       "        text-align: right;\n",
       "    }\n",
       "</style>\n",
       "<table border=\"1\" class=\"dataframe\">\n",
       "  <thead>\n",
       "    <tr style=\"text-align: right;\">\n",
       "      <th></th>\n",
       "      <th>Term</th>\n",
       "      <th>Abbreviation</th>\n",
       "      <th>Description</th>\n",
       "      <th>Comment</th>\n",
       "      <th>SemanticURI</th>\n",
       "      <th>URI</th>\n",
       "      <th>Root Term</th>\n",
       "      <th>Master Term</th>\n",
       "      <th>ID Terminology</th>\n",
       "      <th>ID Category</th>\n",
       "      <th>IDTermStatus</th>\n",
       "      <th>DescriptionFormatted</th>\n",
       "    </tr>\n",
       "  </thead>\n",
       "  <tbody>\n",
       "    <tr>\n",
       "      <th>0</th>\n",
       "      <td>Absolute Humidity</td>\n",
       "      <td>NaN</td>\n",
       "      <td>Absolute humidity is the mass of water in a pa...</td>\n",
       "      <td>NaN</td>\n",
       "      <td>http://qudt.org/1.1/vocab/quantity#AbsoluteHum...</td>\n",
       "      <td>NaN</td>\n",
       "      <td>0</td>\n",
       "      <td>NaN</td>\n",
       "      <td>13</td>\n",
       "      <td>3</td>\n",
       "      <td>3</td>\n",
       "      <td>Absolute humidity is the mass of water in a pa...</td>\n",
       "    </tr>\n",
       "    <tr>\n",
       "      <th>1</th>\n",
       "      <td>Absorbed Dose</td>\n",
       "      <td>NaN</td>\n",
       "      <td>Absorbed dose (also known as Total Ionizing Do...</td>\n",
       "      <td>NaN</td>\n",
       "      <td>http://qudt.org/1.1/vocab/quantity#AbsorbedDose</td>\n",
       "      <td>http://dbpedia.org/resource/Absorbed_dose</td>\n",
       "      <td>0</td>\n",
       "      <td>NaN</td>\n",
       "      <td>13</td>\n",
       "      <td>3</td>\n",
       "      <td>3</td>\n",
       "      <td>Absorbed dose (also known as Total Ionizing Do...</td>\n",
       "    </tr>\n",
       "    <tr>\n",
       "      <th>2</th>\n",
       "      <td>Absorbed Dose Rate</td>\n",
       "      <td>NaN</td>\n",
       "      <td>nan</td>\n",
       "      <td>NaN</td>\n",
       "      <td>http://qudt.org/1.1/vocab/quantity#AbsorbedDos...</td>\n",
       "      <td>NaN</td>\n",
       "      <td>0</td>\n",
       "      <td>NaN</td>\n",
       "      <td>13</td>\n",
       "      <td>3</td>\n",
       "      <td>3</td>\n",
       "      <td></td>\n",
       "    </tr>\n",
       "  </tbody>\n",
       "</table>\n",
       "</div>"
      ],
      "text/plain": [
       "                 Term Abbreviation  \\\n",
       "0   Absolute Humidity          NaN   \n",
       "1       Absorbed Dose          NaN   \n",
       "2  Absorbed Dose Rate          NaN   \n",
       "\n",
       "                                         Description  Comment  \\\n",
       "0  Absolute humidity is the mass of water in a pa...      NaN   \n",
       "1  Absorbed dose (also known as Total Ionizing Do...      NaN   \n",
       "2                                                nan      NaN   \n",
       "\n",
       "                                         SemanticURI  \\\n",
       "0  http://qudt.org/1.1/vocab/quantity#AbsoluteHum...   \n",
       "1    http://qudt.org/1.1/vocab/quantity#AbsorbedDose   \n",
       "2  http://qudt.org/1.1/vocab/quantity#AbsorbedDos...   \n",
       "\n",
       "                                         URI  Root Term  Master Term  \\\n",
       "0                                        NaN          0          NaN   \n",
       "1  http://dbpedia.org/resource/Absorbed_dose          0          NaN   \n",
       "2                                        NaN          0          NaN   \n",
       "\n",
       "   ID Terminology  ID Category  IDTermStatus  \\\n",
       "0              13            3             3   \n",
       "1              13            3             3   \n",
       "2              13            3             3   \n",
       "\n",
       "                                DescriptionFormatted  \n",
       "0  Absolute humidity is the mass of water in a pa...  \n",
       "1  Absorbed dose (also known as Total Ionizing Do...  \n",
       "2                                                     "
      ]
     },
     "execution_count": 26,
     "metadata": {},
     "output_type": "execute_result"
    }
   ],
   "source": [
    "df.head(3)"
   ]
  },
  {
   "cell_type": "code",
   "execution_count": 27,
   "metadata": {},
   "outputs": [
    {
     "data": {
      "text/plain": [
       "'Dynamic Pressure (indicated with q, or Q, and sometimes called velocity pressure) is the quantity defined by:\\n\\nq = 1/2 * ρv^2\\n \\nwhere (using SI units):\\n\\nq = dynamic pressure in pascals \\nρ = fluid density in kg/m3 (e.g. density of air) \\nv = fluid velocity in m/s'"
      ]
     },
     "execution_count": 27,
     "metadata": {},
     "output_type": "execute_result"
    }
   ],
   "source": [
    "df.iloc[41]['Description']"
   ]
  },
  {
   "cell_type": "code",
   "execution_count": 28,
   "metadata": {},
   "outputs": [
    {
     "data": {
      "text/plain": [
       "'Dynamic Pressure (indicated with q, or Q, and sometimes called velocity pressure) is the quantity defined by:|q = 1/2 * ρv^2| |where (using SI units):|q = dynamic pressure in pascals |ρ = fluid density in kg/m3 (e.g. density of air) |v = fluid velocity in m/s'"
      ]
     },
     "execution_count": 28,
     "metadata": {},
     "output_type": "execute_result"
    }
   ],
   "source": [
    "df.iloc[41]['DescriptionFormatted']"
   ]
  },
  {
   "cell_type": "code",
   "execution_count": 29,
   "metadata": {},
   "outputs": [],
   "source": [
    "df.drop('Description', axis=1, inplace=True)\n",
    "df.rename(columns={'DescriptionFormatted': 'Description'}, inplace=True)"
   ]
  },
  {
   "cell_type": "code",
   "execution_count": 30,
   "metadata": {},
   "outputs": [],
   "source": [
    "cols = ['Term','Abbreviation','Description','Comment','SemanticURI','URI','Root Term','Master Term','ID Terminology','ID Category','IDTermStatus']"
   ]
  },
  {
   "cell_type": "code",
   "execution_count": 31,
   "metadata": {},
   "outputs": [
    {
     "data": {
      "text/html": [
       "<div>\n",
       "<style scoped>\n",
       "    .dataframe tbody tr th:only-of-type {\n",
       "        vertical-align: middle;\n",
       "    }\n",
       "\n",
       "    .dataframe tbody tr th {\n",
       "        vertical-align: top;\n",
       "    }\n",
       "\n",
       "    .dataframe thead th {\n",
       "        text-align: right;\n",
       "    }\n",
       "</style>\n",
       "<table border=\"1\" class=\"dataframe\">\n",
       "  <thead>\n",
       "    <tr style=\"text-align: right;\">\n",
       "      <th></th>\n",
       "      <th>Term</th>\n",
       "      <th>Abbreviation</th>\n",
       "      <th>Description</th>\n",
       "      <th>Comment</th>\n",
       "      <th>SemanticURI</th>\n",
       "      <th>URI</th>\n",
       "      <th>Root Term</th>\n",
       "      <th>Master Term</th>\n",
       "      <th>ID Terminology</th>\n",
       "      <th>ID Category</th>\n",
       "      <th>IDTermStatus</th>\n",
       "    </tr>\n",
       "  </thead>\n",
       "  <tbody>\n",
       "    <tr>\n",
       "      <th>0</th>\n",
       "      <td>Absolute Humidity</td>\n",
       "      <td>NaN</td>\n",
       "      <td>Absolute humidity is the mass of water in a pa...</td>\n",
       "      <td>NaN</td>\n",
       "      <td>http://qudt.org/1.1/vocab/quantity#AbsoluteHum...</td>\n",
       "      <td>NaN</td>\n",
       "      <td>0</td>\n",
       "      <td>NaN</td>\n",
       "      <td>13</td>\n",
       "      <td>3</td>\n",
       "      <td>3</td>\n",
       "    </tr>\n",
       "    <tr>\n",
       "      <th>1</th>\n",
       "      <td>Absorbed Dose</td>\n",
       "      <td>NaN</td>\n",
       "      <td>Absorbed dose (also known as Total Ionizing Do...</td>\n",
       "      <td>NaN</td>\n",
       "      <td>http://qudt.org/1.1/vocab/quantity#AbsorbedDose</td>\n",
       "      <td>http://dbpedia.org/resource/Absorbed_dose</td>\n",
       "      <td>0</td>\n",
       "      <td>NaN</td>\n",
       "      <td>13</td>\n",
       "      <td>3</td>\n",
       "      <td>3</td>\n",
       "    </tr>\n",
       "  </tbody>\n",
       "</table>\n",
       "</div>"
      ],
      "text/plain": [
       "                Term Abbreviation  \\\n",
       "0  Absolute Humidity          NaN   \n",
       "1      Absorbed Dose          NaN   \n",
       "\n",
       "                                         Description  Comment  \\\n",
       "0  Absolute humidity is the mass of water in a pa...      NaN   \n",
       "1  Absorbed dose (also known as Total Ionizing Do...      NaN   \n",
       "\n",
       "                                         SemanticURI  \\\n",
       "0  http://qudt.org/1.1/vocab/quantity#AbsoluteHum...   \n",
       "1    http://qudt.org/1.1/vocab/quantity#AbsorbedDose   \n",
       "\n",
       "                                         URI  Root Term  Master Term  \\\n",
       "0                                        NaN          0          NaN   \n",
       "1  http://dbpedia.org/resource/Absorbed_dose          0          NaN   \n",
       "\n",
       "   ID Terminology  ID Category  IDTermStatus  \n",
       "0              13            3             3  \n",
       "1              13            3             3  "
      ]
     },
     "execution_count": 31,
     "metadata": {},
     "output_type": "execute_result"
    }
   ],
   "source": [
    "df = df[cols]\n",
    "df.head(2)"
   ]
  },
  {
   "cell_type": "code",
   "execution_count": 32,
   "metadata": {},
   "outputs": [],
   "source": [
    "df.to_csv('data/qudt_terms.csv', sep='\\t', encoding='utf-8', line_terminator='\\n', index=False)"
   ]
  },
  {
   "cell_type": "code",
   "execution_count": 85,
   "metadata": {},
   "outputs": [
    {
     "data": {
      "text/plain": [
       "236"
      ]
     },
     "execution_count": 85,
     "metadata": {},
     "output_type": "execute_result"
    }
   ],
   "source": [
    "quantityList = df.Term.tolist()\n",
    "len(quantityList)"
   ]
  },
  {
   "cell_type": "code",
   "execution_count": 99,
   "metadata": {},
   "outputs": [
    {
     "data": {
      "text/html": [
       "<div>\n",
       "<style scoped>\n",
       "    .dataframe tbody tr th:only-of-type {\n",
       "        vertical-align: middle;\n",
       "    }\n",
       "\n",
       "    .dataframe tbody tr th {\n",
       "        vertical-align: top;\n",
       "    }\n",
       "\n",
       "    .dataframe thead th {\n",
       "        text-align: right;\n",
       "    }\n",
       "</style>\n",
       "<table border=\"1\" class=\"dataframe\">\n",
       "  <thead>\n",
       "    <tr style=\"text-align: right;\">\n",
       "      <th></th>\n",
       "      <th>Term</th>\n",
       "      <th>Abbreviation</th>\n",
       "      <th>Description</th>\n",
       "      <th>Comment</th>\n",
       "      <th>SemanticURI</th>\n",
       "      <th>URI</th>\n",
       "      <th>Root Term</th>\n",
       "      <th>Master Term</th>\n",
       "      <th>ID Terminology</th>\n",
       "      <th>ID Category</th>\n",
       "      <th>IDTermStatus</th>\n",
       "    </tr>\n",
       "  </thead>\n",
       "  <tbody>\n",
       "    <tr>\n",
       "      <th>64</th>\n",
       "      <td>Energy and Work</td>\n",
       "      <td>NaN</td>\n",
       "      <td></td>\n",
       "      <td>NaN</td>\n",
       "      <td>http://qudt.org/1.1/vocab/quantity#EnergyAndWork</td>\n",
       "      <td>http://dbpedia.org/resource/Work_%28physics%29</td>\n",
       "      <td>0</td>\n",
       "      <td>NaN</td>\n",
       "      <td>13</td>\n",
       "      <td>3</td>\n",
       "      <td>3</td>\n",
       "    </tr>\n",
       "    <tr>\n",
       "      <th>108</th>\n",
       "      <td>Kinetic Energy</td>\n",
       "      <td>NaN</td>\n",
       "      <td>The energy which a body possesses as a consequ...</td>\n",
       "      <td>NaN</td>\n",
       "      <td>http://qudt.org/1.1/vocab/quantity#KineticEnergy</td>\n",
       "      <td>http://dbpedia.org/resource/Kinetic_energy</td>\n",
       "      <td>0</td>\n",
       "      <td>NaN</td>\n",
       "      <td>13</td>\n",
       "      <td>3</td>\n",
       "      <td>3</td>\n",
       "    </tr>\n",
       "  </tbody>\n",
       "</table>\n",
       "</div>"
      ],
      "text/plain": [
       "                Term Abbreviation  \\\n",
       "64   Energy and Work          NaN   \n",
       "108   Kinetic Energy          NaN   \n",
       "\n",
       "                                           Description  Comment  \\\n",
       "64                                                          NaN   \n",
       "108  The energy which a body possesses as a consequ...      NaN   \n",
       "\n",
       "                                          SemanticURI  \\\n",
       "64   http://qudt.org/1.1/vocab/quantity#EnergyAndWork   \n",
       "108  http://qudt.org/1.1/vocab/quantity#KineticEnergy   \n",
       "\n",
       "                                                URI  Root Term  Master Term  \\\n",
       "64   http://dbpedia.org/resource/Work_%28physics%29          0          NaN   \n",
       "108      http://dbpedia.org/resource/Kinetic_energy          0          NaN   \n",
       "\n",
       "     ID Terminology  ID Category  IDTermStatus  \n",
       "64               13            3             3  \n",
       "108              13            3             3  "
      ]
     },
     "execution_count": 99,
     "metadata": {},
     "output_type": "execute_result"
    }
   ],
   "source": []
  },
  {
   "cell_type": "markdown",
   "metadata": {},
   "source": [
    "# Format Relations"
   ]
  },
  {
   "cell_type": "code",
   "execution_count": 86,
   "metadata": {},
   "outputs": [
    {
     "data": {
      "text/plain": [
       "(235, 3)"
      ]
     },
     "execution_count": 86,
     "metadata": {},
     "output_type": "execute_result"
    }
   ],
   "source": [
    "dfr = pd.read_excel('data/ImportedQUDT.xlsx', headers=0, delimiter=\",\", sheet_name='Term_Relation_All', index=False)\n",
    "dfr.shape"
   ]
  },
  {
   "cell_type": "code",
   "execution_count": 87,
   "metadata": {},
   "outputs": [
    {
     "data": {
      "text/html": [
       "<div>\n",
       "<style scoped>\n",
       "    .dataframe tbody tr th:only-of-type {\n",
       "        vertical-align: middle;\n",
       "    }\n",
       "\n",
       "    .dataframe tbody tr th {\n",
       "        vertical-align: top;\n",
       "    }\n",
       "\n",
       "    .dataframe thead th {\n",
       "        text-align: right;\n",
       "    }\n",
       "</style>\n",
       "<table border=\"1\" class=\"dataframe\">\n",
       "  <thead>\n",
       "    <tr style=\"text-align: right;\">\n",
       "      <th></th>\n",
       "      <th>Term</th>\n",
       "      <th>Relation Type</th>\n",
       "      <th>Term.1</th>\n",
       "    </tr>\n",
       "  </thead>\n",
       "  <tbody>\n",
       "    <tr>\n",
       "      <th>37</th>\n",
       "      <td>Kinetic Energy</td>\n",
       "      <td>has broader term</td>\n",
       "      <td>Energy and Work</td>\n",
       "    </tr>\n",
       "  </tbody>\n",
       "</table>\n",
       "</div>"
      ],
      "text/plain": [
       "              Term     Relation Type           Term.1\n",
       "37  Kinetic Energy  has broader term  Energy and Work"
      ]
     },
     "execution_count": 87,
     "metadata": {},
     "output_type": "execute_result"
    }
   ],
   "source": [
    "dfr[dfr.duplicated()]"
   ]
  },
  {
   "cell_type": "code",
   "execution_count": 88,
   "metadata": {},
   "outputs": [
    {
     "data": {
      "text/plain": [
       "(234, 3)"
      ]
     },
     "execution_count": 88,
     "metadata": {},
     "output_type": "execute_result"
    }
   ],
   "source": [
    "#dfr.to_csv('data/qudt_terms_relations.csv', sep='\\t', encoding='utf-8', line_terminator='\\n',index=False)\n",
    "dfr = dfr.drop_duplicates()\n",
    "dfr.shape"
   ]
  },
  {
   "cell_type": "code",
   "execution_count": 89,
   "metadata": {},
   "outputs": [
    {
     "data": {
      "text/html": [
       "<div>\n",
       "<style scoped>\n",
       "    .dataframe tbody tr th:only-of-type {\n",
       "        vertical-align: middle;\n",
       "    }\n",
       "\n",
       "    .dataframe tbody tr th {\n",
       "        vertical-align: top;\n",
       "    }\n",
       "\n",
       "    .dataframe thead th {\n",
       "        text-align: right;\n",
       "    }\n",
       "</style>\n",
       "<table border=\"1\" class=\"dataframe\">\n",
       "  <thead>\n",
       "    <tr style=\"text-align: right;\">\n",
       "      <th></th>\n",
       "      <th>Term</th>\n",
       "      <th>Relation Type</th>\n",
       "      <th>Term.1</th>\n",
       "    </tr>\n",
       "  </thead>\n",
       "  <tbody>\n",
       "    <tr>\n",
       "      <th>0</th>\n",
       "      <td>Angular Acceleration</td>\n",
       "      <td>has broader term</td>\n",
       "      <td>Acceleration</td>\n",
       "    </tr>\n",
       "  </tbody>\n",
       "</table>\n",
       "</div>"
      ],
      "text/plain": [
       "                   Term     Relation Type        Term.1\n",
       "0  Angular Acceleration  has broader term  Acceleration"
      ]
     },
     "execution_count": 89,
     "metadata": {},
     "output_type": "execute_result"
    }
   ],
   "source": [
    "dfr.head(1)"
   ]
  },
  {
   "cell_type": "code",
   "execution_count": 109,
   "metadata": {},
   "outputs": [
    {
     "data": {
      "text/html": [
       "<div>\n",
       "<style scoped>\n",
       "    .dataframe tbody tr th:only-of-type {\n",
       "        vertical-align: middle;\n",
       "    }\n",
       "\n",
       "    .dataframe tbody tr th {\n",
       "        vertical-align: top;\n",
       "    }\n",
       "\n",
       "    .dataframe thead th {\n",
       "        text-align: right;\n",
       "    }\n",
       "</style>\n",
       "<table border=\"1\" class=\"dataframe\">\n",
       "  <thead>\n",
       "    <tr style=\"text-align: right;\">\n",
       "      <th></th>\n",
       "      <th>Term</th>\n",
       "      <th>Relation Type</th>\n",
       "      <th>Term.1</th>\n",
       "    </tr>\n",
       "  </thead>\n",
       "  <tbody>\n",
       "  </tbody>\n",
       "</table>\n",
       "</div>"
      ],
      "text/plain": [
       "Empty DataFrame\n",
       "Columns: [Term, Relation Type, Term.1]\n",
       "Index: []"
      ]
     },
     "execution_count": 109,
     "metadata": {},
     "output_type": "execute_result"
    }
   ],
   "source": [
    "param ='Energy Kinetic'\n",
    "dfr[dfr.Term.str.contains(param) | dfr['Term.1'].str.contains(param)]"
   ]
  },
  {
   "cell_type": "code",
   "execution_count": 98,
   "metadata": {},
   "outputs": [
    {
     "data": {
      "text/plain": [
       "[]"
      ]
     },
     "execution_count": 98,
     "metadata": {},
     "output_type": "execute_result"
    }
   ],
   "source": [
    "list(set(dfr.Term.tolist()) - set(quantityList))"
   ]
  },
  {
   "cell_type": "code",
   "execution_count": 79,
   "metadata": {},
   "outputs": [],
   "source": [
    "dfr.to_csv('data/qudt_terms_relations.csv', sep='\\t', encoding='utf-8', line_terminator='\\n',index=False)"
   ]
  },
  {
   "cell_type": "code",
   "execution_count": null,
   "metadata": {},
   "outputs": [],
   "source": [
    "df"
   ]
  }
 ],
 "metadata": {
  "kernelspec": {
   "display_name": "Python 3",
   "language": "python",
   "name": "python3"
  },
  "language_info": {
   "codemirror_mode": {
    "name": "ipython",
    "version": 3
   },
   "file_extension": ".py",
   "mimetype": "text/x-python",
   "name": "python",
   "nbconvert_exporter": "python",
   "pygments_lexer": "ipython3",
   "version": "3.6.5"
  }
 },
 "nbformat": 4,
 "nbformat_minor": 2
}
