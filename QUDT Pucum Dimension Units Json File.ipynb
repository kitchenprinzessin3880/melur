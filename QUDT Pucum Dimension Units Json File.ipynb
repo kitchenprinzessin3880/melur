{
 "cells": [
  {
   "cell_type": "code",
   "execution_count": 6,
   "metadata": {},
   "outputs": [],
   "source": [
    "import csv\n",
    "import pandas as pd\n",
    "import numpy as np\n",
    "import urllib.parse\n",
    "import requests\n",
    "import simplejson\n",
    "import json\n",
    "import re\n",
    "import xml.etree.ElementTree as ET"
   ]
  },
  {
   "cell_type": "code",
   "execution_count": 7,
   "metadata": {},
   "outputs": [],
   "source": [
    "class XML2DataFrame:\n",
    "\n",
    "    def __init__(self, xml_data):\n",
    "        self.root = ET.XML(xml_data)\n",
    "\n",
    "    def parse_root(self, root):\n",
    "        return [self.parse_element(child) for child in iter(root)]\n",
    "\n",
    "    def parse_element(self, element, parsed=None):\n",
    "        if parsed is None:\n",
    "            parsed = dict()\n",
    "        for key in element.keys():\n",
    "            parsed[key] = element.attrib.get(key)\n",
    "        if element.text:\n",
    "            parsed[element.tag] = element.text\n",
    "        for child in list(element):\n",
    "            self.parse_element(child, parsed)\n",
    "        return parsed\n",
    "\n",
    "    def process_data(self):\n",
    "        structure_data = self.parse_root(self.root)\n",
    "        return pd.DataFrame(structure_data)\n"
   ]
  },
  {
   "cell_type": "markdown",
   "metadata": {},
   "source": [
    "Read RH Pangea Quantites"
   ]
  },
  {
   "cell_type": "code",
   "execution_count": 8,
   "metadata": {},
   "outputs": [
    {
     "data": {
      "text/html": [
       "<div>\n",
       "<style scoped>\n",
       "    .dataframe tbody tr th:only-of-type {\n",
       "        vertical-align: middle;\n",
       "    }\n",
       "\n",
       "    .dataframe tbody tr th {\n",
       "        vertical-align: top;\n",
       "    }\n",
       "\n",
       "    .dataframe thead th {\n",
       "        text-align: right;\n",
       "    }\n",
       "</style>\n",
       "<table border=\"1\" class=\"dataframe\">\n",
       "  <thead>\n",
       "    <tr style=\"text-align: right;\">\n",
       "      <th></th>\n",
       "      <th>dimension</th>\n",
       "      <th>name</th>\n",
       "      <th>quantity</th>\n",
       "      <th>source</th>\n",
       "      <th>unit</th>\n",
       "    </tr>\n",
       "  </thead>\n",
       "  <tbody>\n",
       "    <tr>\n",
       "      <th>0</th>\n",
       "      <td>L-1.Z</td>\n",
       "      <td>Abundance per Length/Frequency</td>\n",
       "      <td>\\t</td>\n",
       "      <td>pan</td>\n",
       "      <td>n/m</td>\n",
       "    </tr>\n",
       "    <tr>\n",
       "      <th>1</th>\n",
       "      <td>L-2.Z</td>\n",
       "      <td>Individual Density</td>\n",
       "      <td>\\t</td>\n",
       "      <td>pan</td>\n",
       "      <td>n/m2</td>\n",
       "    </tr>\n",
       "    <tr>\n",
       "      <th>2</th>\n",
       "      <td>L-3.Z</td>\n",
       "      <td>Abundance per Volume</td>\n",
       "      <td>\\t</td>\n",
       "      <td>pan</td>\n",
       "      <td>n/m3</td>\n",
       "    </tr>\n",
       "    <tr>\n",
       "      <th>3</th>\n",
       "      <td>M-1.Z</td>\n",
       "      <td>Abundance per Mass</td>\n",
       "      <td>\\t</td>\n",
       "      <td>pan</td>\n",
       "      <td>n/g</td>\n",
       "    </tr>\n",
       "    <tr>\n",
       "      <th>4</th>\n",
       "      <td>Z</td>\n",
       "      <td>Abundance or Count</td>\n",
       "      <td>\\t</td>\n",
       "      <td>pan</td>\n",
       "      <td>n</td>\n",
       "    </tr>\n",
       "  </tbody>\n",
       "</table>\n",
       "</div>"
      ],
      "text/plain": [
       "  dimension                            name quantity source  unit\n",
       "0     L-1.Z  Abundance per Length/Frequency       \\t    pan   n/m\n",
       "1     L-2.Z              Individual Density       \\t    pan  n/m2\n",
       "2     L-3.Z            Abundance per Volume       \\t    pan  n/m3\n",
       "3     M-1.Z              Abundance per Mass       \\t    pan   n/g\n",
       "4         Z              Abundance or Count       \\t    pan     n"
      ]
     },
     "execution_count": 8,
     "metadata": {},
     "output_type": "execute_result"
    }
   ],
   "source": [
    "root = ET.parse('data/quantities_pangaea.xml').getroot()\n",
    "xmlstr = ET.tostring(root, encoding='utf8', method='xml')\n",
    "xml2df = XML2DataFrame(xmlstr)\n",
    "xml_df = xml2df.process_data()\n",
    "xml_df.head()"
   ]
  },
  {
   "cell_type": "code",
   "execution_count": 9,
   "metadata": {},
   "outputs": [
    {
     "data": {
      "text/plain": [
       "(25, 4)"
      ]
     },
     "execution_count": 9,
     "metadata": {},
     "output_type": "execute_result"
    }
   ],
   "source": [
    "xml_df = xml_df.drop(columns=['quantity', 'source'])\n",
    "xml_df[\"Source\"]= 'pangaea'\n",
    "xml_df.shape"
   ]
  },
  {
   "cell_type": "code",
   "execution_count": 10,
   "metadata": {},
   "outputs": [
    {
     "data": {
      "text/html": [
       "<div>\n",
       "<style scoped>\n",
       "    .dataframe tbody tr th:only-of-type {\n",
       "        vertical-align: middle;\n",
       "    }\n",
       "\n",
       "    .dataframe tbody tr th {\n",
       "        vertical-align: top;\n",
       "    }\n",
       "\n",
       "    .dataframe thead th {\n",
       "        text-align: right;\n",
       "    }\n",
       "</style>\n",
       "<table border=\"1\" class=\"dataframe\">\n",
       "  <thead>\n",
       "    <tr style=\"text-align: right;\">\n",
       "      <th></th>\n",
       "      <th>name</th>\n",
       "      <th>dimension</th>\n",
       "      <th>unit</th>\n",
       "      <th>Source</th>\n",
       "    </tr>\n",
       "  </thead>\n",
       "  <tbody>\n",
       "    <tr>\n",
       "      <th>0</th>\n",
       "      <td>Abundance per Length/Frequency</td>\n",
       "      <td>L-1.Z</td>\n",
       "      <td>n/m</td>\n",
       "      <td>pangaea</td>\n",
       "    </tr>\n",
       "    <tr>\n",
       "      <th>1</th>\n",
       "      <td>Individual Density</td>\n",
       "      <td>L-2.Z</td>\n",
       "      <td>n/m2</td>\n",
       "      <td>pangaea</td>\n",
       "    </tr>\n",
       "    <tr>\n",
       "      <th>2</th>\n",
       "      <td>Abundance per Volume</td>\n",
       "      <td>L-3.Z</td>\n",
       "      <td>n/m3</td>\n",
       "      <td>pangaea</td>\n",
       "    </tr>\n",
       "    <tr>\n",
       "      <th>3</th>\n",
       "      <td>Abundance per Mass</td>\n",
       "      <td>M-1.Z</td>\n",
       "      <td>n/g</td>\n",
       "      <td>pangaea</td>\n",
       "    </tr>\n",
       "    <tr>\n",
       "      <th>4</th>\n",
       "      <td>Abundance or Count</td>\n",
       "      <td>Z</td>\n",
       "      <td>n</td>\n",
       "      <td>pangaea</td>\n",
       "    </tr>\n",
       "  </tbody>\n",
       "</table>\n",
       "</div>"
      ],
      "text/plain": [
       "                             name dimension  unit   Source\n",
       "0  Abundance per Length/Frequency     L-1.Z   n/m  pangaea\n",
       "1              Individual Density     L-2.Z  n/m2  pangaea\n",
       "2            Abundance per Volume     L-3.Z  n/m3  pangaea\n",
       "3              Abundance per Mass     M-1.Z   n/g  pangaea\n",
       "4              Abundance or Count         Z     n  pangaea"
      ]
     },
     "execution_count": 10,
     "metadata": {},
     "output_type": "execute_result"
    }
   ],
   "source": [
    "xml_df= xml_df[['name','dimension','unit','Source']]\n",
    "xml_df.head()"
   ]
  },
  {
   "cell_type": "code",
   "execution_count": 11,
   "metadata": {},
   "outputs": [
    {
     "data": {
      "text/plain": [
       "(25, 4)"
      ]
     },
     "execution_count": 11,
     "metadata": {},
     "output_type": "execute_result"
    }
   ],
   "source": [
    "xml_df.shape"
   ]
  },
  {
   "cell_type": "markdown",
   "metadata": {},
   "source": [
    "QUDT"
   ]
  },
  {
   "cell_type": "code",
   "execution_count": 12,
   "metadata": {},
   "outputs": [],
   "source": [
    "#validate formatted units through ucum service\n",
    "HOST = 'http://localhost:8080'\n",
    "UCUM_SERVICE_VALIDATE =HOST+'/pucum/v1/api/validate/'"
   ]
  },
  {
   "cell_type": "code",
   "execution_count": 13,
   "metadata": {},
   "outputs": [],
   "source": [
    "df = pd.read_excel('data/QUDT_QuantityDimUnit.xlsx', encoidng=\"utf-8\",headers=0, delimiter=\",\",converters={'Dimension':str,'Unit':str})\n",
    "#df['Quantity']= df['Quantity'].astype(str)\n",
    "#df['Dimension']= df['Dimension'].astype(str)\n",
    "#df['UnitName']= df['UnitName'].astype(str)\n",
    "#df['Unit']= df['Unit'].astype(str)"
   ]
  },
  {
   "cell_type": "code",
   "execution_count": 14,
   "metadata": {},
   "outputs": [
    {
     "data": {
      "text/html": [
       "<div>\n",
       "<style scoped>\n",
       "    .dataframe tbody tr th:only-of-type {\n",
       "        vertical-align: middle;\n",
       "    }\n",
       "\n",
       "    .dataframe tbody tr th {\n",
       "        vertical-align: top;\n",
       "    }\n",
       "\n",
       "    .dataframe thead th {\n",
       "        text-align: right;\n",
       "    }\n",
       "</style>\n",
       "<table border=\"1\" class=\"dataframe\">\n",
       "  <thead>\n",
       "    <tr style=\"text-align: right;\">\n",
       "      <th></th>\n",
       "      <th>Quantity</th>\n",
       "      <th>Dimension</th>\n",
       "      <th>UnitName</th>\n",
       "      <th>Unit</th>\n",
       "      <th>Source</th>\n",
       "    </tr>\n",
       "  </thead>\n",
       "  <tbody>\n",
       "    <tr>\n",
       "      <th>0</th>\n",
       "      <td>Absolute Humidity</td>\n",
       "      <td>NaN</td>\n",
       "      <td>NaN</td>\n",
       "      <td>NaN</td>\n",
       "      <td>qudt</td>\n",
       "    </tr>\n",
       "    <tr>\n",
       "      <th>1</th>\n",
       "      <td>Absorbed Dose</td>\n",
       "      <td>NaN</td>\n",
       "      <td>Gray</td>\n",
       "      <td>Gy</td>\n",
       "      <td>qudt</td>\n",
       "    </tr>\n",
       "    <tr>\n",
       "      <th>2</th>\n",
       "      <td>Absorbed Dose</td>\n",
       "      <td>NaN</td>\n",
       "      <td>Rad</td>\n",
       "      <td>RAD</td>\n",
       "      <td>qudt</td>\n",
       "    </tr>\n",
       "    <tr>\n",
       "      <th>3</th>\n",
       "      <td>Absorbed Dose Rate</td>\n",
       "      <td>L^2 T^-3</td>\n",
       "      <td>Gray per Second</td>\n",
       "      <td>Gy/s</td>\n",
       "      <td>qudt</td>\n",
       "    </tr>\n",
       "    <tr>\n",
       "      <th>4</th>\n",
       "      <td>Acceleration</td>\n",
       "      <td>NaN</td>\n",
       "      <td>NaN</td>\n",
       "      <td>NaN</td>\n",
       "      <td>qudt</td>\n",
       "    </tr>\n",
       "  </tbody>\n",
       "</table>\n",
       "</div>"
      ],
      "text/plain": [
       "             Quantity  Dimension         UnitName  Unit Source\n",
       "0   Absolute Humidity        NaN              NaN   NaN   qudt\n",
       "1       Absorbed Dose        NaN             Gray    Gy   qudt\n",
       "2       Absorbed Dose        NaN              Rad   RAD   qudt\n",
       "3  Absorbed Dose Rate  L^2 T^-3   Gray per Second  Gy/s   qudt\n",
       "4        Acceleration        NaN              NaN   NaN   qudt"
      ]
     },
     "execution_count": 14,
     "metadata": {},
     "output_type": "execute_result"
    }
   ],
   "source": [
    "df['Source']='qudt'\n",
    "df.head()"
   ]
  },
  {
   "cell_type": "code",
   "execution_count": 15,
   "metadata": {},
   "outputs": [
    {
     "data": {
      "text/html": [
       "<div>\n",
       "<style scoped>\n",
       "    .dataframe tbody tr th:only-of-type {\n",
       "        vertical-align: middle;\n",
       "    }\n",
       "\n",
       "    .dataframe tbody tr th {\n",
       "        vertical-align: top;\n",
       "    }\n",
       "\n",
       "    .dataframe thead th {\n",
       "        text-align: right;\n",
       "    }\n",
       "</style>\n",
       "<table border=\"1\" class=\"dataframe\">\n",
       "  <thead>\n",
       "    <tr style=\"text-align: right;\">\n",
       "      <th></th>\n",
       "      <th>Quantity</th>\n",
       "      <th>Dimension</th>\n",
       "      <th>UnitName</th>\n",
       "      <th>Unit</th>\n",
       "      <th>Source</th>\n",
       "    </tr>\n",
       "  </thead>\n",
       "  <tbody>\n",
       "    <tr>\n",
       "      <th>1</th>\n",
       "      <td>Absorbed Dose</td>\n",
       "      <td>NaN</td>\n",
       "      <td>Gray</td>\n",
       "      <td>Gy</td>\n",
       "      <td>qudt</td>\n",
       "    </tr>\n",
       "    <tr>\n",
       "      <th>2</th>\n",
       "      <td>Absorbed Dose</td>\n",
       "      <td>NaN</td>\n",
       "      <td>Rad</td>\n",
       "      <td>RAD</td>\n",
       "      <td>qudt</td>\n",
       "    </tr>\n",
       "  </tbody>\n",
       "</table>\n",
       "</div>"
      ],
      "text/plain": [
       "        Quantity Dimension UnitName Unit Source\n",
       "1  Absorbed Dose       NaN     Gray   Gy   qudt\n",
       "2  Absorbed Dose       NaN      Rad  RAD   qudt"
      ]
     },
     "execution_count": 15,
     "metadata": {},
     "output_type": "execute_result"
    }
   ],
   "source": [
    "df[df.Quantity ==\"Absorbed Dose\"]"
   ]
  },
  {
   "cell_type": "code",
   "execution_count": 16,
   "metadata": {},
   "outputs": [
    {
     "data": {
      "text/html": [
       "<div>\n",
       "<style scoped>\n",
       "    .dataframe tbody tr th:only-of-type {\n",
       "        vertical-align: middle;\n",
       "    }\n",
       "\n",
       "    .dataframe tbody tr th {\n",
       "        vertical-align: top;\n",
       "    }\n",
       "\n",
       "    .dataframe thead th {\n",
       "        text-align: right;\n",
       "    }\n",
       "</style>\n",
       "<table border=\"1\" class=\"dataframe\">\n",
       "  <thead>\n",
       "    <tr style=\"text-align: right;\">\n",
       "      <th></th>\n",
       "      <th>Quantity</th>\n",
       "      <th>Dimension</th>\n",
       "      <th>UnitName</th>\n",
       "      <th>Unit</th>\n",
       "      <th>Source</th>\n",
       "    </tr>\n",
       "  </thead>\n",
       "  <tbody>\n",
       "    <tr>\n",
       "      <th>12</th>\n",
       "      <td>Angle</td>\n",
       "      <td>NaN</td>\n",
       "      <td>Radian</td>\n",
       "      <td>rad</td>\n",
       "      <td>qudt</td>\n",
       "    </tr>\n",
       "    <tr>\n",
       "      <th>13</th>\n",
       "      <td>Angle</td>\n",
       "      <td>NaN</td>\n",
       "      <td>Arc Second</td>\n",
       "      <td>arcSec</td>\n",
       "      <td>qudt</td>\n",
       "    </tr>\n",
       "    <tr>\n",
       "      <th>14</th>\n",
       "      <td>Angle</td>\n",
       "      <td>NaN</td>\n",
       "      <td>Arc Minute</td>\n",
       "      <td>arcMin</td>\n",
       "      <td>qudt</td>\n",
       "    </tr>\n",
       "    <tr>\n",
       "      <th>15</th>\n",
       "      <td>Angle</td>\n",
       "      <td>NaN</td>\n",
       "      <td>Degree Angle</td>\n",
       "      <td>°</td>\n",
       "      <td>qudt</td>\n",
       "    </tr>\n",
       "    <tr>\n",
       "      <th>16</th>\n",
       "      <td>Angle</td>\n",
       "      <td>NaN</td>\n",
       "      <td>Second Angle</td>\n",
       "      <td>NaN</td>\n",
       "      <td>qudt</td>\n",
       "    </tr>\n",
       "    <tr>\n",
       "      <th>17</th>\n",
       "      <td>Angle</td>\n",
       "      <td>NaN</td>\n",
       "      <td>Minute Angle</td>\n",
       "      <td>NaN</td>\n",
       "      <td>qudt</td>\n",
       "    </tr>\n",
       "  </tbody>\n",
       "</table>\n",
       "</div>"
      ],
      "text/plain": [
       "   Quantity Dimension      UnitName    Unit Source\n",
       "12    Angle       NaN        Radian     rad   qudt\n",
       "13    Angle       NaN    Arc Second  arcSec   qudt\n",
       "14    Angle       NaN    Arc Minute  arcMin   qudt\n",
       "15    Angle       NaN  Degree Angle       °   qudt\n",
       "16    Angle       NaN  Second Angle     NaN   qudt\n",
       "17    Angle       NaN  Minute Angle     NaN   qudt"
      ]
     },
     "execution_count": 16,
     "metadata": {},
     "output_type": "execute_result"
    }
   ],
   "source": [
    "df[df.Quantity ==\"Angle\"]"
   ]
  },
  {
   "cell_type": "code",
   "execution_count": 17,
   "metadata": {},
   "outputs": [
    {
     "data": {
      "text/plain": [
       "(Quantity     object\n",
       " Dimension    object\n",
       " UnitName     object\n",
       " Unit         object\n",
       " Source       object\n",
       " dtype: object, (2401, 5))"
      ]
     },
     "execution_count": 17,
     "metadata": {},
     "output_type": "execute_result"
    }
   ],
   "source": [
    "df.dtypes, df.shape"
   ]
  },
  {
   "cell_type": "code",
   "execution_count": 18,
   "metadata": {},
   "outputs": [],
   "source": [
    "#df.dropna(subset=['Dimension'], inplace=True)\n",
    "# remove duplicate rows\n",
    "#df = df.drop_duplicates().reset_index(drop=True)\n",
    "#df.head()"
   ]
  },
  {
   "cell_type": "code",
   "execution_count": 19,
   "metadata": {},
   "outputs": [
    {
     "name": "stdout",
     "output_type": "stream",
     "text": [
      "<class 'pandas.core.frame.DataFrame'>\n",
      "RangeIndex: 2401 entries, 0 to 2400\n",
      "Data columns (total 5 columns):\n",
      "Quantity     2401 non-null object\n",
      "Dimension    2027 non-null object\n",
      "UnitName     2332 non-null object\n",
      "Unit         2049 non-null object\n",
      "Source       2401 non-null object\n",
      "dtypes: object(5)\n",
      "memory usage: 93.9+ KB\n"
     ]
    },
    {
     "data": {
      "text/plain": [
       "((2401, 5), None)"
      ]
     },
     "execution_count": 19,
     "metadata": {},
     "output_type": "execute_result"
    }
   ],
   "source": [
    "df.shape,df.info()"
   ]
  },
  {
   "cell_type": "code",
   "execution_count": 20,
   "metadata": {},
   "outputs": [
    {
     "data": {
      "text/plain": [
       "Quantity     234\n",
       "Dimension    146\n",
       "UnitName     785\n",
       "Unit         541\n",
       "Source         1\n",
       "dtype: int64"
      ]
     },
     "execution_count": 20,
     "metadata": {},
     "output_type": "execute_result"
    }
   ],
   "source": [
    "df.nunique()"
   ]
  },
  {
   "cell_type": "code",
   "execution_count": 21,
   "metadata": {},
   "outputs": [
    {
     "data": {
      "text/html": [
       "<div>\n",
       "<style scoped>\n",
       "    .dataframe tbody tr th:only-of-type {\n",
       "        vertical-align: middle;\n",
       "    }\n",
       "\n",
       "    .dataframe tbody tr th {\n",
       "        vertical-align: top;\n",
       "    }\n",
       "\n",
       "    .dataframe thead th {\n",
       "        text-align: right;\n",
       "    }\n",
       "</style>\n",
       "<table border=\"1\" class=\"dataframe\">\n",
       "  <thead>\n",
       "    <tr style=\"text-align: right;\">\n",
       "      <th></th>\n",
       "      <th>Quantity</th>\n",
       "      <th>Dimension</th>\n",
       "      <th>UnitName</th>\n",
       "      <th>Unit</th>\n",
       "      <th>Source</th>\n",
       "    </tr>\n",
       "  </thead>\n",
       "  <tbody>\n",
       "    <tr>\n",
       "      <th>0</th>\n",
       "      <td>Absorbed Dose</td>\n",
       "      <td>NaN</td>\n",
       "      <td>Gray</td>\n",
       "      <td>Gy</td>\n",
       "      <td>qudt</td>\n",
       "    </tr>\n",
       "    <tr>\n",
       "      <th>1</th>\n",
       "      <td>Absorbed Dose</td>\n",
       "      <td>NaN</td>\n",
       "      <td>Rad</td>\n",
       "      <td>RAD</td>\n",
       "      <td>qudt</td>\n",
       "    </tr>\n",
       "    <tr>\n",
       "      <th>2</th>\n",
       "      <td>Absorbed Dose Rate</td>\n",
       "      <td>L^2 T^-3</td>\n",
       "      <td>Gray per Second</td>\n",
       "      <td>Gy/s</td>\n",
       "      <td>qudt</td>\n",
       "    </tr>\n",
       "    <tr>\n",
       "      <th>3</th>\n",
       "      <td>Activity</td>\n",
       "      <td>NaN</td>\n",
       "      <td>Becquerel</td>\n",
       "      <td>Bq</td>\n",
       "      <td>qudt</td>\n",
       "    </tr>\n",
       "    <tr>\n",
       "      <th>4</th>\n",
       "      <td>Activity</td>\n",
       "      <td>NaN</td>\n",
       "      <td>Curie</td>\n",
       "      <td>Ci</td>\n",
       "      <td>qudt</td>\n",
       "    </tr>\n",
       "  </tbody>\n",
       "</table>\n",
       "</div>"
      ],
      "text/plain": [
       "             Quantity  Dimension         UnitName  Unit Source\n",
       "0       Absorbed Dose        NaN             Gray    Gy   qudt\n",
       "1       Absorbed Dose        NaN              Rad   RAD   qudt\n",
       "2  Absorbed Dose Rate  L^2 T^-3   Gray per Second  Gy/s   qudt\n",
       "3            Activity        NaN        Becquerel    Bq   qudt\n",
       "4            Activity        NaN            Curie    Ci   qudt"
      ]
     },
     "execution_count": 21,
     "metadata": {},
     "output_type": "execute_result"
    }
   ],
   "source": [
    "#remove rows where dimension and unit are null\n",
    "df =  df.dropna(subset=['Dimension','Unit'], how='all')\n",
    "df = df.reset_index(drop=True)\n",
    "df.head()"
   ]
  },
  {
   "cell_type": "code",
   "execution_count": 22,
   "metadata": {},
   "outputs": [
    {
     "data": {
      "text/plain": [
       "(2157, 5)"
      ]
     },
     "execution_count": 22,
     "metadata": {},
     "output_type": "execute_result"
    }
   ],
   "source": [
    "df.shape"
   ]
  },
  {
   "cell_type": "code",
   "execution_count": 23,
   "metadata": {},
   "outputs": [
    {
     "data": {
      "text/html": [
       "<div>\n",
       "<style scoped>\n",
       "    .dataframe tbody tr th:only-of-type {\n",
       "        vertical-align: middle;\n",
       "    }\n",
       "\n",
       "    .dataframe tbody tr th {\n",
       "        vertical-align: top;\n",
       "    }\n",
       "\n",
       "    .dataframe thead th {\n",
       "        text-align: right;\n",
       "    }\n",
       "</style>\n",
       "<table border=\"1\" class=\"dataframe\">\n",
       "  <thead>\n",
       "    <tr style=\"text-align: right;\">\n",
       "      <th></th>\n",
       "      <th>Quantity</th>\n",
       "      <th>Dimension</th>\n",
       "      <th>UnitName</th>\n",
       "      <th>Unit</th>\n",
       "      <th>Source</th>\n",
       "    </tr>\n",
       "  </thead>\n",
       "  <tbody>\n",
       "    <tr>\n",
       "      <th>63</th>\n",
       "      <td>Area</td>\n",
       "      <td>L^2</td>\n",
       "      <td>Are</td>\n",
       "      <td>a</td>\n",
       "      <td>qudt</td>\n",
       "    </tr>\n",
       "    <tr>\n",
       "      <th>75</th>\n",
       "      <td>Area</td>\n",
       "      <td>L^2</td>\n",
       "      <td>Are</td>\n",
       "      <td>a</td>\n",
       "      <td>qudt</td>\n",
       "    </tr>\n",
       "    <tr>\n",
       "      <th>87</th>\n",
       "      <td>Area</td>\n",
       "      <td>L^2</td>\n",
       "      <td>Are</td>\n",
       "      <td>a</td>\n",
       "      <td>qudt</td>\n",
       "    </tr>\n",
       "    <tr>\n",
       "      <th>99</th>\n",
       "      <td>Area</td>\n",
       "      <td>L^2</td>\n",
       "      <td>Are</td>\n",
       "      <td>a</td>\n",
       "      <td>qudt</td>\n",
       "    </tr>\n",
       "    <tr>\n",
       "      <th>228</th>\n",
       "      <td>Dimensionless</td>\n",
       "      <td>U</td>\n",
       "      <td>Atto</td>\n",
       "      <td>a</td>\n",
       "      <td>qudt</td>\n",
       "    </tr>\n",
       "    <tr>\n",
       "      <th>262</th>\n",
       "      <td>Dimensionless</td>\n",
       "      <td>U</td>\n",
       "      <td>Atto</td>\n",
       "      <td>a</td>\n",
       "      <td>qudt</td>\n",
       "    </tr>\n",
       "    <tr>\n",
       "      <th>296</th>\n",
       "      <td>Dimensionless</td>\n",
       "      <td>U</td>\n",
       "      <td>Atto</td>\n",
       "      <td>a</td>\n",
       "      <td>qudt</td>\n",
       "    </tr>\n",
       "    <tr>\n",
       "      <th>330</th>\n",
       "      <td>Dimensionless</td>\n",
       "      <td>U</td>\n",
       "      <td>Atto</td>\n",
       "      <td>a</td>\n",
       "      <td>qudt</td>\n",
       "    </tr>\n",
       "    <tr>\n",
       "      <th>364</th>\n",
       "      <td>Dimensionless</td>\n",
       "      <td>U</td>\n",
       "      <td>Atto</td>\n",
       "      <td>a</td>\n",
       "      <td>qudt</td>\n",
       "    </tr>\n",
       "    <tr>\n",
       "      <th>398</th>\n",
       "      <td>Dimensionless</td>\n",
       "      <td>U</td>\n",
       "      <td>Atto</td>\n",
       "      <td>a</td>\n",
       "      <td>qudt</td>\n",
       "    </tr>\n",
       "    <tr>\n",
       "      <th>432</th>\n",
       "      <td>Dimensionless</td>\n",
       "      <td>U</td>\n",
       "      <td>Atto</td>\n",
       "      <td>a</td>\n",
       "      <td>qudt</td>\n",
       "    </tr>\n",
       "  </tbody>\n",
       "</table>\n",
       "</div>"
      ],
      "text/plain": [
       "          Quantity Dimension UnitName Unit Source\n",
       "63            Area      L^2       Are    a   qudt\n",
       "75            Area      L^2       Are    a   qudt\n",
       "87            Area      L^2       Are    a   qudt\n",
       "99            Area      L^2       Are    a   qudt\n",
       "228  Dimensionless        U      Atto    a   qudt\n",
       "262  Dimensionless        U      Atto    a   qudt\n",
       "296  Dimensionless        U      Atto    a   qudt\n",
       "330  Dimensionless        U      Atto    a   qudt\n",
       "364  Dimensionless        U      Atto    a   qudt\n",
       "398  Dimensionless        U      Atto    a   qudt\n",
       "432  Dimensionless        U      Atto    a   qudt"
      ]
     },
     "execution_count": 23,
     "metadata": {},
     "output_type": "execute_result"
    }
   ],
   "source": [
    "df[df.Unit =='a']"
   ]
  },
  {
   "cell_type": "code",
   "execution_count": 24,
   "metadata": {},
   "outputs": [],
   "source": [
    "def pattern_match(m):\n",
    "    m = m.group(0).replace('-', '.')\n",
    "    return m"
   ]
  },
  {
   "cell_type": "code",
   "execution_count": 25,
   "metadata": {},
   "outputs": [
    {
     "data": {
      "text/plain": [
       "'C.m-3'"
      ]
     },
     "execution_count": 25,
     "metadata": {},
     "output_type": "execute_result"
    }
   ],
   "source": [
    "#reformat units, dimensions\n",
    "pattern  = re.compile(r'-[A-z]+') #ft^2-s-degF -> ft2.s.degF\n",
    "\n",
    "def replaceUnits(u):\n",
    "    if pd.isnull(u):\n",
    "        return u\n",
    "    else:\n",
    "        u= u.replace('^','')\n",
    "        u1 = pattern.sub(pattern_match, u)\n",
    "        u2 = re.sub(r'\\b(\\s)\\b', '.', u1)# L^2 M T^-1 -> L2.M.T-1 #\\w is equal to [A-Za-z0-9_]\n",
    "        u2 = u2.replace(\" \", \"\")\n",
    "        #replace last dot\n",
    "        u2 = u2.rstrip('.')\n",
    "        return u2\n",
    "#t ='cm^2-m' , 'ft^2-s-degF', 'lbf / s', 'L^2 M T^-1 '\n",
    "replaceUnits('C m-3')"
   ]
  },
  {
   "cell_type": "code",
   "execution_count": 26,
   "metadata": {},
   "outputs": [],
   "source": [
    "#df['Dimension'] = df['Dimension'].apply(replaceUnits )\n",
    "#df['UnitFormatted'] = df['Unit'].apply(replaceUnits )"
   ]
  },
  {
   "cell_type": "code",
   "execution_count": 27,
   "metadata": {},
   "outputs": [
    {
     "data": {
      "text/html": [
       "<div>\n",
       "<style scoped>\n",
       "    .dataframe tbody tr th:only-of-type {\n",
       "        vertical-align: middle;\n",
       "    }\n",
       "\n",
       "    .dataframe tbody tr th {\n",
       "        vertical-align: top;\n",
       "    }\n",
       "\n",
       "    .dataframe thead th {\n",
       "        text-align: right;\n",
       "    }\n",
       "</style>\n",
       "<table border=\"1\" class=\"dataframe\">\n",
       "  <thead>\n",
       "    <tr style=\"text-align: right;\">\n",
       "      <th></th>\n",
       "      <th>Quantity</th>\n",
       "      <th>Dimension</th>\n",
       "      <th>UnitName</th>\n",
       "      <th>Unit</th>\n",
       "      <th>Source</th>\n",
       "      <th>DimensionFormatted</th>\n",
       "      <th>Ucum</th>\n",
       "    </tr>\n",
       "  </thead>\n",
       "  <tbody>\n",
       "    <tr>\n",
       "      <th>0</th>\n",
       "      <td>Absorbed Dose</td>\n",
       "      <td>NaN</td>\n",
       "      <td>Gray</td>\n",
       "      <td>Gy</td>\n",
       "      <td>qudt</td>\n",
       "      <td>NaN</td>\n",
       "      <td>NaN</td>\n",
       "    </tr>\n",
       "    <tr>\n",
       "      <th>1</th>\n",
       "      <td>Absorbed Dose</td>\n",
       "      <td>NaN</td>\n",
       "      <td>Rad</td>\n",
       "      <td>RAD</td>\n",
       "      <td>qudt</td>\n",
       "      <td>NaN</td>\n",
       "      <td>NaN</td>\n",
       "    </tr>\n",
       "    <tr>\n",
       "      <th>2</th>\n",
       "      <td>Absorbed Dose Rate</td>\n",
       "      <td>L^2 T^-3</td>\n",
       "      <td>Gray per Second</td>\n",
       "      <td>Gy/s</td>\n",
       "      <td>qudt</td>\n",
       "      <td>L^2 T^-3</td>\n",
       "      <td>NaN</td>\n",
       "    </tr>\n",
       "    <tr>\n",
       "      <th>3</th>\n",
       "      <td>Activity</td>\n",
       "      <td>NaN</td>\n",
       "      <td>Becquerel</td>\n",
       "      <td>Bq</td>\n",
       "      <td>qudt</td>\n",
       "      <td>NaN</td>\n",
       "      <td>NaN</td>\n",
       "    </tr>\n",
       "    <tr>\n",
       "      <th>4</th>\n",
       "      <td>Activity</td>\n",
       "      <td>NaN</td>\n",
       "      <td>Curie</td>\n",
       "      <td>Ci</td>\n",
       "      <td>qudt</td>\n",
       "      <td>NaN</td>\n",
       "      <td>NaN</td>\n",
       "    </tr>\n",
       "  </tbody>\n",
       "</table>\n",
       "</div>"
      ],
      "text/plain": [
       "             Quantity  Dimension         UnitName  Unit Source  \\\n",
       "0       Absorbed Dose        NaN             Gray    Gy   qudt   \n",
       "1       Absorbed Dose        NaN              Rad   RAD   qudt   \n",
       "2  Absorbed Dose Rate  L^2 T^-3   Gray per Second  Gy/s   qudt   \n",
       "3            Activity        NaN        Becquerel    Bq   qudt   \n",
       "4            Activity        NaN            Curie    Ci   qudt   \n",
       "\n",
       "  DimensionFormatted  Ucum  \n",
       "0                NaN   NaN  \n",
       "1                NaN   NaN  \n",
       "2          L^2 T^-3    NaN  \n",
       "3                NaN   NaN  \n",
       "4                NaN   NaN  "
      ]
     },
     "execution_count": 27,
     "metadata": {},
     "output_type": "execute_result"
    }
   ],
   "source": [
    "df['DimensionFormatted'] = df['Dimension']\n",
    "df[\"Ucum\"] = np.nan\n",
    "df.head()"
   ]
  },
  {
   "cell_type": "code",
   "execution_count": 28,
   "metadata": {},
   "outputs": [],
   "source": [
    "def validateUnit(uom):\n",
    "    q = UCUM_SERVICE_VALIDATE+ urllib.parse.quote(uom) \n",
    "    resp = requests.get(q)\n",
    "    data = resp.json()\n",
    "    if (resp.status_code == requests.codes.ok):\n",
    "        return data['ucum']\n",
    "    else:\n",
    "        return None"
   ]
  },
  {
   "cell_type": "code",
   "execution_count": 29,
   "metadata": {},
   "outputs": [],
   "source": [
    "invalid_units =[]"
   ]
  },
  {
   "cell_type": "code",
   "execution_count": 30,
   "metadata": {},
   "outputs": [],
   "source": [
    "for index, row in df.iterrows():\n",
    "    if pd.notnull(row['Unit']):\n",
    "        uom = row['Unit']\n",
    "        ucum = validateUnit(uom)\n",
    "        if not (ucum is None):\n",
    "            #df.UnitFormatted.iloc[index] = ucum\n",
    "            df.loc[index,'Ucum'] = ucum\n",
    "        else:\n",
    "            formattedUnit = replaceUnits(uom)\n",
    "            ucum_fmt = validateUnit(formattedUnit)\n",
    "            if not (ucum_fmt is None):\n",
    "                df.loc[index,'Ucum'] = ucum_fmt\n",
    "            else:\n",
    "                invalid_units.append(uom)"
   ]
  },
  {
   "cell_type": "code",
   "execution_count": 31,
   "metadata": {},
   "outputs": [],
   "source": [
    "#units_list = df['UnitFormatted'].unique()\n",
    "#cleanedList = [x for x in units_list if str(x) != 'nan']\n",
    "#len(units_list), len(cleanedList)"
   ]
  },
  {
   "cell_type": "code",
   "execution_count": 32,
   "metadata": {},
   "outputs": [
    {
     "data": {
      "text/plain": [
       "(94,\n",
       " ['statH',\n",
       "  'statF',\n",
       "  'rev',\n",
       "  'kip',\n",
       "  'Z',\n",
       "  'Q_p',\n",
       "  'Ti',\n",
       "  'l_P',\n",
       "  'rev/h',\n",
       "  'therm (US)'])"
      ]
     },
     "execution_count": 32,
     "metadata": {},
     "output_type": "execute_result"
    }
   ],
   "source": [
    "invalid_units= list(set(invalid_units))\n",
    "len(set(invalid_units)), invalid_units[:10]"
   ]
  },
  {
   "cell_type": "code",
   "execution_count": 33,
   "metadata": {},
   "outputs": [
    {
     "name": "stdout",
     "output_type": "stream",
     "text": [
      "<class 'pandas.core.frame.DataFrame'>\n",
      "RangeIndex: 2157 entries, 0 to 2156\n",
      "Data columns (total 7 columns):\n",
      "Quantity              2157 non-null object\n",
      "Dimension             2027 non-null object\n",
      "UnitName              2147 non-null object\n",
      "Unit                  2049 non-null object\n",
      "Source                2157 non-null object\n",
      "DimensionFormatted    2027 non-null object\n",
      "Ucum                  1610 non-null object\n",
      "dtypes: object(7)\n",
      "memory usage: 118.0+ KB\n"
     ]
    }
   ],
   "source": [
    "df.info()"
   ]
  },
  {
   "cell_type": "code",
   "execution_count": 34,
   "metadata": {},
   "outputs": [],
   "source": [
    "#Replace dimensions\n",
    "df['DimensionFormatted'] = df['DimensionFormatted'].str.replace('T I','Q')\n",
    "df['DimensionFormatted'] = df['DimensionFormatted'].str.replace('Θ','C')\n",
    "df['DimensionFormatted'] = df['DimensionFormatted'].apply(replaceUnits )\n",
    "#df = df.drop_duplicates(subset=['Quantity', 'Dimension','Unit','Ucum'])\n",
    "df = df.drop_duplicates()"
   ]
  },
  {
   "cell_type": "code",
   "execution_count": 35,
   "metadata": {},
   "outputs": [
    {
     "data": {
      "text/plain": [
       "(847, 7)"
      ]
     },
     "execution_count": 35,
     "metadata": {},
     "output_type": "execute_result"
    }
   ],
   "source": [
    "df.shape"
   ]
  },
  {
   "cell_type": "code",
   "execution_count": 36,
   "metadata": {},
   "outputs": [
    {
     "data": {
      "text/html": [
       "<div>\n",
       "<style scoped>\n",
       "    .dataframe tbody tr th:only-of-type {\n",
       "        vertical-align: middle;\n",
       "    }\n",
       "\n",
       "    .dataframe tbody tr th {\n",
       "        vertical-align: top;\n",
       "    }\n",
       "\n",
       "    .dataframe thead th {\n",
       "        text-align: right;\n",
       "    }\n",
       "</style>\n",
       "<table border=\"1\" class=\"dataframe\">\n",
       "  <thead>\n",
       "    <tr style=\"text-align: right;\">\n",
       "      <th></th>\n",
       "      <th>Quantity</th>\n",
       "      <th>Dimension</th>\n",
       "      <th>UnitName</th>\n",
       "      <th>Unit</th>\n",
       "      <th>Source</th>\n",
       "      <th>DimensionFormatted</th>\n",
       "      <th>Ucum</th>\n",
       "    </tr>\n",
       "  </thead>\n",
       "  <tbody>\n",
       "    <tr>\n",
       "      <th>0</th>\n",
       "      <td>Absorbed Dose</td>\n",
       "      <td>NaN</td>\n",
       "      <td>Gray</td>\n",
       "      <td>Gy</td>\n",
       "      <td>qudt</td>\n",
       "      <td>NaN</td>\n",
       "      <td>Gy</td>\n",
       "    </tr>\n",
       "    <tr>\n",
       "      <th>1</th>\n",
       "      <td>Absorbed Dose</td>\n",
       "      <td>NaN</td>\n",
       "      <td>Rad</td>\n",
       "      <td>RAD</td>\n",
       "      <td>qudt</td>\n",
       "      <td>NaN</td>\n",
       "      <td>RAD</td>\n",
       "    </tr>\n",
       "    <tr>\n",
       "      <th>2</th>\n",
       "      <td>Absorbed Dose Rate</td>\n",
       "      <td>L^2 T^-3</td>\n",
       "      <td>Gray per Second</td>\n",
       "      <td>Gy/s</td>\n",
       "      <td>qudt</td>\n",
       "      <td>L2.T-3</td>\n",
       "      <td>Gy/s</td>\n",
       "    </tr>\n",
       "    <tr>\n",
       "      <th>3</th>\n",
       "      <td>Activity</td>\n",
       "      <td>NaN</td>\n",
       "      <td>Becquerel</td>\n",
       "      <td>Bq</td>\n",
       "      <td>qudt</td>\n",
       "      <td>NaN</td>\n",
       "      <td>Bq</td>\n",
       "    </tr>\n",
       "    <tr>\n",
       "      <th>4</th>\n",
       "      <td>Activity</td>\n",
       "      <td>NaN</td>\n",
       "      <td>Curie</td>\n",
       "      <td>Ci</td>\n",
       "      <td>qudt</td>\n",
       "      <td>NaN</td>\n",
       "      <td>Ci</td>\n",
       "    </tr>\n",
       "  </tbody>\n",
       "</table>\n",
       "</div>"
      ],
      "text/plain": [
       "             Quantity  Dimension         UnitName  Unit Source  \\\n",
       "0       Absorbed Dose        NaN             Gray    Gy   qudt   \n",
       "1       Absorbed Dose        NaN              Rad   RAD   qudt   \n",
       "2  Absorbed Dose Rate  L^2 T^-3   Gray per Second  Gy/s   qudt   \n",
       "3            Activity        NaN        Becquerel    Bq   qudt   \n",
       "4            Activity        NaN            Curie    Ci   qudt   \n",
       "\n",
       "  DimensionFormatted  Ucum  \n",
       "0                NaN    Gy  \n",
       "1                NaN   RAD  \n",
       "2             L2.T-3  Gy/s  \n",
       "3                NaN    Bq  \n",
       "4                NaN    Ci  "
      ]
     },
     "execution_count": 36,
     "metadata": {},
     "output_type": "execute_result"
    }
   ],
   "source": [
    "df.head()"
   ]
  },
  {
   "cell_type": "code",
   "execution_count": 37,
   "metadata": {},
   "outputs": [
    {
     "data": {
      "text/html": [
       "<div>\n",
       "<style scoped>\n",
       "    .dataframe tbody tr th:only-of-type {\n",
       "        vertical-align: middle;\n",
       "    }\n",
       "\n",
       "    .dataframe tbody tr th {\n",
       "        vertical-align: top;\n",
       "    }\n",
       "\n",
       "    .dataframe thead th {\n",
       "        text-align: right;\n",
       "    }\n",
       "</style>\n",
       "<table border=\"1\" class=\"dataframe\">\n",
       "  <thead>\n",
       "    <tr style=\"text-align: right;\">\n",
       "      <th></th>\n",
       "      <th>Quantity</th>\n",
       "      <th>Dimension</th>\n",
       "      <th>UnitName</th>\n",
       "      <th>Unit</th>\n",
       "      <th>Source</th>\n",
       "      <th>DimensionFormatted</th>\n",
       "      <th>Ucum</th>\n",
       "    </tr>\n",
       "  </thead>\n",
       "  <tbody>\n",
       "    <tr>\n",
       "      <th>9</th>\n",
       "      <td>Angle</td>\n",
       "      <td>NaN</td>\n",
       "      <td>Radian</td>\n",
       "      <td>rad</td>\n",
       "      <td>qudt</td>\n",
       "      <td>NaN</td>\n",
       "      <td>rad</td>\n",
       "    </tr>\n",
       "    <tr>\n",
       "      <th>1613</th>\n",
       "      <td>Plane Angle</td>\n",
       "      <td>NaN</td>\n",
       "      <td>Radian</td>\n",
       "      <td>rad</td>\n",
       "      <td>qudt</td>\n",
       "      <td>NaN</td>\n",
       "      <td>rad</td>\n",
       "    </tr>\n",
       "  </tbody>\n",
       "</table>\n",
       "</div>"
      ],
      "text/plain": [
       "         Quantity Dimension UnitName Unit Source DimensionFormatted Ucum\n",
       "9           Angle       NaN   Radian  rad   qudt                NaN  rad\n",
       "1613  Plane Angle       NaN   Radian  rad   qudt                NaN  rad"
      ]
     },
     "execution_count": 37,
     "metadata": {},
     "output_type": "execute_result"
    }
   ],
   "source": [
    "df[df.Ucum ==\"rad\"]"
   ]
  },
  {
   "cell_type": "code",
   "execution_count": 38,
   "metadata": {},
   "outputs": [
    {
     "data": {
      "text/html": [
       "<div>\n",
       "<style scoped>\n",
       "    .dataframe tbody tr th:only-of-type {\n",
       "        vertical-align: middle;\n",
       "    }\n",
       "\n",
       "    .dataframe tbody tr th {\n",
       "        vertical-align: top;\n",
       "    }\n",
       "\n",
       "    .dataframe thead th {\n",
       "        text-align: right;\n",
       "    }\n",
       "</style>\n",
       "<table border=\"1\" class=\"dataframe\">\n",
       "  <thead>\n",
       "    <tr style=\"text-align: right;\">\n",
       "      <th></th>\n",
       "      <th>Quantity</th>\n",
       "      <th>Dimension</th>\n",
       "      <th>UnitName</th>\n",
       "      <th>Unit</th>\n",
       "      <th>Source</th>\n",
       "      <th>DimensionFormatted</th>\n",
       "      <th>Ucum</th>\n",
       "    </tr>\n",
       "  </thead>\n",
       "  <tbody>\n",
       "    <tr>\n",
       "      <th>10</th>\n",
       "      <td>Angle</td>\n",
       "      <td>NaN</td>\n",
       "      <td>Arc Second</td>\n",
       "      <td>arcSec</td>\n",
       "      <td>qudt</td>\n",
       "      <td>NaN</td>\n",
       "      <td>''</td>\n",
       "    </tr>\n",
       "    <tr>\n",
       "      <th>1617</th>\n",
       "      <td>Plane Angle</td>\n",
       "      <td>NaN</td>\n",
       "      <td>Arc Second</td>\n",
       "      <td>arcSec</td>\n",
       "      <td>qudt</td>\n",
       "      <td>NaN</td>\n",
       "      <td>''</td>\n",
       "    </tr>\n",
       "  </tbody>\n",
       "</table>\n",
       "</div>"
      ],
      "text/plain": [
       "         Quantity Dimension    UnitName    Unit Source DimensionFormatted Ucum\n",
       "10          Angle       NaN  Arc Second  arcSec   qudt                NaN   ''\n",
       "1617  Plane Angle       NaN  Arc Second  arcSec   qudt                NaN   ''"
      ]
     },
     "execution_count": 38,
     "metadata": {},
     "output_type": "execute_result"
    }
   ],
   "source": [
    "df[df.Ucum ==\"''\"]"
   ]
  },
  {
   "cell_type": "code",
   "execution_count": 39,
   "metadata": {},
   "outputs": [],
   "source": [
    "#dfqudt = df.groupby( [ \"Quantity\", \"Dimension\"] )\n",
    "#dfqudt.head()#\n",
    "#dfqudt = df.groupby('Dimension')['Quantity'].apply(list)\n",
    "#dfqudt.head()"
   ]
  },
  {
   "cell_type": "code",
   "execution_count": 40,
   "metadata": {},
   "outputs": [
    {
     "data": {
      "text/plain": [
       "((847, 7), 541, 437)"
      ]
     },
     "execution_count": 40,
     "metadata": {},
     "output_type": "execute_result"
    }
   ],
   "source": [
    "df.shape, df.Unit.nunique(dropna=True), df.Ucum.nunique(dropna=True)"
   ]
  },
  {
   "cell_type": "code",
   "execution_count": 41,
   "metadata": {},
   "outputs": [
    {
     "name": "stdout",
     "output_type": "stream",
     "text": [
      "<class 'pandas.core.frame.DataFrame'>\n",
      "Int64Index: 847 entries, 0 to 2156\n",
      "Data columns (total 7 columns):\n",
      "Quantity              847 non-null object\n",
      "Dimension             717 non-null object\n",
      "UnitName              838 non-null object\n",
      "Unit                  793 non-null object\n",
      "Source                847 non-null object\n",
      "DimensionFormatted    717 non-null object\n",
      "Ucum                  617 non-null object\n",
      "dtypes: object(7)\n",
      "memory usage: 52.9+ KB\n"
     ]
    }
   ],
   "source": [
    "df.info()"
   ]
  },
  {
   "cell_type": "code",
   "execution_count": 42,
   "metadata": {},
   "outputs": [
    {
     "data": {
      "text/html": [
       "<div>\n",
       "<style scoped>\n",
       "    .dataframe tbody tr th:only-of-type {\n",
       "        vertical-align: middle;\n",
       "    }\n",
       "\n",
       "    .dataframe tbody tr th {\n",
       "        vertical-align: top;\n",
       "    }\n",
       "\n",
       "    .dataframe thead th {\n",
       "        text-align: right;\n",
       "    }\n",
       "</style>\n",
       "<table border=\"1\" class=\"dataframe\">\n",
       "  <thead>\n",
       "    <tr style=\"text-align: right;\">\n",
       "      <th></th>\n",
       "      <th>Quantity</th>\n",
       "      <th>DimensionFormatted</th>\n",
       "      <th>Ucum</th>\n",
       "      <th>Source</th>\n",
       "    </tr>\n",
       "  </thead>\n",
       "  <tbody>\n",
       "    <tr>\n",
       "      <th>0</th>\n",
       "      <td>Absorbed Dose</td>\n",
       "      <td>NaN</td>\n",
       "      <td>Gy</td>\n",
       "      <td>qudt</td>\n",
       "    </tr>\n",
       "    <tr>\n",
       "      <th>1</th>\n",
       "      <td>Absorbed Dose</td>\n",
       "      <td>NaN</td>\n",
       "      <td>RAD</td>\n",
       "      <td>qudt</td>\n",
       "    </tr>\n",
       "    <tr>\n",
       "      <th>2</th>\n",
       "      <td>Absorbed Dose Rate</td>\n",
       "      <td>L2.T-3</td>\n",
       "      <td>Gy/s</td>\n",
       "      <td>qudt</td>\n",
       "    </tr>\n",
       "    <tr>\n",
       "      <th>3</th>\n",
       "      <td>Activity</td>\n",
       "      <td>NaN</td>\n",
       "      <td>Bq</td>\n",
       "      <td>qudt</td>\n",
       "    </tr>\n",
       "    <tr>\n",
       "      <th>4</th>\n",
       "      <td>Activity</td>\n",
       "      <td>NaN</td>\n",
       "      <td>Ci</td>\n",
       "      <td>qudt</td>\n",
       "    </tr>\n",
       "  </tbody>\n",
       "</table>\n",
       "</div>"
      ],
      "text/plain": [
       "             Quantity DimensionFormatted  Ucum Source\n",
       "0       Absorbed Dose                NaN    Gy   qudt\n",
       "1       Absorbed Dose                NaN   RAD   qudt\n",
       "2  Absorbed Dose Rate             L2.T-3  Gy/s   qudt\n",
       "3            Activity                NaN    Bq   qudt\n",
       "4            Activity                NaN    Ci   qudt"
      ]
     },
     "execution_count": 42,
     "metadata": {},
     "output_type": "execute_result"
    }
   ],
   "source": [
    "df = df[['Quantity','DimensionFormatted','Ucum','Source']]\n",
    "df.head()"
   ]
  },
  {
   "cell_type": "markdown",
   "metadata": {},
   "source": [
    "Combine QUDT and PANGAEA"
   ]
  },
  {
   "cell_type": "code",
   "execution_count": 43,
   "metadata": {},
   "outputs": [],
   "source": [
    "df_final = pd.concat([df,xml_df.rename(columns={'name':'Quantity', 'dimension':'DimensionFormatted','unit':'Ucum','Source':'Source'})], ignore_index=True)"
   ]
  },
  {
   "cell_type": "code",
   "execution_count": 44,
   "metadata": {},
   "outputs": [
    {
     "data": {
      "text/html": [
       "<div>\n",
       "<style scoped>\n",
       "    .dataframe tbody tr th:only-of-type {\n",
       "        vertical-align: middle;\n",
       "    }\n",
       "\n",
       "    .dataframe tbody tr th {\n",
       "        vertical-align: top;\n",
       "    }\n",
       "\n",
       "    .dataframe thead th {\n",
       "        text-align: right;\n",
       "    }\n",
       "</style>\n",
       "<table border=\"1\" class=\"dataframe\">\n",
       "  <thead>\n",
       "    <tr style=\"text-align: right;\">\n",
       "      <th></th>\n",
       "      <th>Quantity</th>\n",
       "      <th>DimensionFormatted</th>\n",
       "      <th>Ucum</th>\n",
       "      <th>Source</th>\n",
       "    </tr>\n",
       "  </thead>\n",
       "  <tbody>\n",
       "    <tr>\n",
       "      <th>0</th>\n",
       "      <td>Absorbed Dose</td>\n",
       "      <td>NaN</td>\n",
       "      <td>Gy</td>\n",
       "      <td>qudt</td>\n",
       "    </tr>\n",
       "    <tr>\n",
       "      <th>1</th>\n",
       "      <td>Absorbed Dose</td>\n",
       "      <td>NaN</td>\n",
       "      <td>RAD</td>\n",
       "      <td>qudt</td>\n",
       "    </tr>\n",
       "    <tr>\n",
       "      <th>2</th>\n",
       "      <td>Absorbed Dose Rate</td>\n",
       "      <td>L2.T-3</td>\n",
       "      <td>Gy/s</td>\n",
       "      <td>qudt</td>\n",
       "    </tr>\n",
       "    <tr>\n",
       "      <th>3</th>\n",
       "      <td>Activity</td>\n",
       "      <td>NaN</td>\n",
       "      <td>Bq</td>\n",
       "      <td>qudt</td>\n",
       "    </tr>\n",
       "    <tr>\n",
       "      <th>4</th>\n",
       "      <td>Activity</td>\n",
       "      <td>NaN</td>\n",
       "      <td>Ci</td>\n",
       "      <td>qudt</td>\n",
       "    </tr>\n",
       "  </tbody>\n",
       "</table>\n",
       "</div>"
      ],
      "text/plain": [
       "             Quantity DimensionFormatted  Ucum Source\n",
       "0       Absorbed Dose                NaN    Gy   qudt\n",
       "1       Absorbed Dose                NaN   RAD   qudt\n",
       "2  Absorbed Dose Rate             L2.T-3  Gy/s   qudt\n",
       "3            Activity                NaN    Bq   qudt\n",
       "4            Activity                NaN    Ci   qudt"
      ]
     },
     "execution_count": 44,
     "metadata": {},
     "output_type": "execute_result"
    }
   ],
   "source": [
    "df_final.head()"
   ]
  },
  {
   "cell_type": "code",
   "execution_count": 45,
   "metadata": {},
   "outputs": [
    {
     "data": {
      "text/plain": [
       "(872, 4)"
      ]
     },
     "execution_count": 45,
     "metadata": {},
     "output_type": "execute_result"
    }
   ],
   "source": [
    "#df_final.to_csv('qudt_quantities.csv', sep='\\t', encoding='utf-8',index=False)\n",
    "df_final.shape"
   ]
  },
  {
   "cell_type": "code",
   "execution_count": 46,
   "metadata": {},
   "outputs": [
    {
     "data": {
      "text/html": [
       "<div>\n",
       "<style scoped>\n",
       "    .dataframe tbody tr th:only-of-type {\n",
       "        vertical-align: middle;\n",
       "    }\n",
       "\n",
       "    .dataframe tbody tr th {\n",
       "        vertical-align: top;\n",
       "    }\n",
       "\n",
       "    .dataframe thead th {\n",
       "        text-align: right;\n",
       "    }\n",
       "</style>\n",
       "<table border=\"1\" class=\"dataframe\">\n",
       "  <thead>\n",
       "    <tr style=\"text-align: right;\">\n",
       "      <th></th>\n",
       "      <th>Quantity</th>\n",
       "      <th>DimensionFormatted</th>\n",
       "      <th>Ucum</th>\n",
       "      <th>Source</th>\n",
       "    </tr>\n",
       "  </thead>\n",
       "  <tbody>\n",
       "    <tr>\n",
       "      <th>858</th>\n",
       "      <td>Accumulation Rate</td>\n",
       "      <td>L-3.Z.T-1</td>\n",
       "      <td>n/m3/s</td>\n",
       "      <td>pangaea</td>\n",
       "    </tr>\n",
       "  </tbody>\n",
       "</table>\n",
       "</div>"
      ],
      "text/plain": [
       "              Quantity DimensionFormatted    Ucum   Source\n",
       "858  Accumulation Rate          L-3.Z.T-1  n/m3/s  pangaea"
      ]
     },
     "execution_count": 46,
     "metadata": {},
     "output_type": "execute_result"
    }
   ],
   "source": [
    "df_final[df_final.Ucum=='n/m3/s']"
   ]
  },
  {
   "cell_type": "code",
   "execution_count": 47,
   "metadata": {},
   "outputs": [],
   "source": [
    "out = df_final.to_json(orient='records').replace('[', '{\\\"Quantitites\\\":[',1)\n",
    "out = out.replace(']', ']}', -1)"
   ]
  },
  {
   "cell_type": "code",
   "execution_count": 48,
   "metadata": {},
   "outputs": [],
   "source": [
    "#with open('data/quantities.json', 'w') as outfile:  \n",
    "    #json.dump(datastore, outfile)"
   ]
  },
  {
   "cell_type": "code",
   "execution_count": 49,
   "metadata": {},
   "outputs": [],
   "source": [
    "from datetime import datetime\n",
    "datestring = datetime.strftime(datetime.now(), '%Y%m%d')\n",
    "f = 'data/quantities_'+datestring+'.json'\n",
    "with open(f, 'w',encoding='utf-8') as f:\n",
    "    f.write(out)"
   ]
  },
  {
   "cell_type": "code",
   "execution_count": null,
   "metadata": {},
   "outputs": [],
   "source": []
  },
  {
   "cell_type": "code",
   "execution_count": null,
   "metadata": {},
   "outputs": [],
   "source": []
  },
  {
   "cell_type": "code",
   "execution_count": null,
   "metadata": {},
   "outputs": [],
   "source": []
  },
  {
   "cell_type": "code",
   "execution_count": null,
   "metadata": {},
   "outputs": [],
   "source": []
  }
 ],
 "metadata": {
  "kernelspec": {
   "display_name": "Python 3",
   "language": "python",
   "name": "python3"
  },
  "language_info": {
   "codemirror_mode": {
    "name": "ipython",
    "version": 3
   },
   "file_extension": ".py",
   "mimetype": "text/x-python",
   "name": "python",
   "nbconvert_exporter": "python",
   "pygments_lexer": "ipython3",
   "version": "3.6.5"
  }
 },
 "nbformat": 4,
 "nbformat_minor": 2
}
